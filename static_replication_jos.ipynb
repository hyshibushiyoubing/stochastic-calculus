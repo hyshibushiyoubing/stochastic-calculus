{
 "cells": [
  {
   "cell_type": "code",
   "execution_count": 1,
   "metadata": {},
   "outputs": [
    {
     "name": "stdout",
     "output_type": "stream",
     "text": [
      "Note: you may need to restart the kernel to use updated packages.\n"
     ]
    },
    {
     "name": "stderr",
     "output_type": "stream",
     "text": [
      "ERROR: Could not find a version that satisfies the requirement analytical_option_formulae (from versions: none)\n",
      "ERROR: No matching distribution found for analytical_option_formulae\n"
     ]
    }
   ],
   "source": [
    "pip install analytical_option_formulae"
   ]
  },
  {
   "cell_type": "code",
   "execution_count": 3,
   "metadata": {},
   "outputs": [
    {
     "ename": "ModuleNotFoundError",
     "evalue": "No module named 'analytical_option_formulae'",
     "output_type": "error",
     "traceback": [
      "\u001b[1;31m---------------------------------------------------------------------------\u001b[0m",
      "\u001b[1;31mModuleNotFoundError\u001b[0m                       Traceback (most recent call last)",
      "Cell \u001b[1;32mIn[3], line 15\u001b[0m\n\u001b[0;32m     11\u001b[0m \u001b[38;5;28;01mimport\u001b[39;00m \u001b[38;5;21;01msys\u001b[39;00m\n\u001b[0;32m     13\u001b[0m sys\u001b[38;5;241m.\u001b[39mpath\u001b[38;5;241m.\u001b[39mappend(\u001b[38;5;124m\"\u001b[39m\u001b[38;5;124m..\u001b[39m\u001b[38;5;124m\"\u001b[39m)\n\u001b[1;32m---> 15\u001b[0m \u001b[38;5;28;01mfrom\u001b[39;00m \u001b[38;5;21;01manalytical_option_formulae\u001b[39;00m\u001b[38;5;21;01m.\u001b[39;00m\u001b[38;5;21;01moption_types\u001b[39;00m\u001b[38;5;21;01m.\u001b[39;00m\u001b[38;5;21;01mvanilla_option\u001b[39;00m \u001b[38;5;28;01mimport\u001b[39;00m VanillaOption\n\u001b[0;32m     17\u001b[0m vanilla_option \u001b[38;5;241m=\u001b[39m VanillaOption()\n\u001b[0;32m     19\u001b[0m \u001b[38;5;66;03m# please adjust this before running, its either SPX or SPY\u001b[39;00m\n",
      "\u001b[1;31mModuleNotFoundError\u001b[0m: No module named 'analytical_option_formulae'"
     ]
    }
   ],
   "source": [
    "import pandas as pd\n",
    "import numpy as np\n",
    "from scipy.stats import norm\n",
    "from scipy.optimize import brentq\n",
    "import matplotlib.pylab as plt\n",
    "from scipy.interpolate import interp1d\n",
    "from scipy.optimize import least_squares\n",
    "import matplotlib.ticker as ticker\n",
    "from scipy.integrate import quad\n",
    "\n",
    "import sys\n",
    "\n",
    "sys.path.append(\"..\")\n",
    "\n",
    "from analytical_option_formulae.option_types.vanilla_option import VanillaOption\n",
    "\n",
    "vanilla_option = VanillaOption()\n",
    "\n",
    "# please adjust this before running, its either SPX or SPY\n",
    "filename = \"SPY_options\"\n",
    "part3_date = pd.to_datetime(\"20210115\", format=\"%Y%m%d\")"
   ]
  },
  {
   "cell_type": "code",
   "execution_count": null,
   "metadata": {},
   "outputs": [],
   "source": [
    "# implied volatility reporting\n",
    "\n",
    "\n",
    "def implied_volatility_bs(\n",
    "    S: float, K: float, r: float, price: float, T: float, options_type: str\n",
    ") -> float:\n",
    "    try:\n",
    "        bs_model = lambda x: vanilla_option.black_scholes_model(S, K, r, x, T)\n",
    "        if options_type.lower() == \"call\":\n",
    "            implied_vol = brentq(\n",
    "                lambda x: price - bs_model(x).calculate_call_price(), 1e-12, 10.0\n",
    "            )\n",
    "        elif options_type.lower() == \"put\":\n",
    "            implied_vol = brentq(\n",
    "                lambda x: price - bs_model(x).calculate_put_price(), 1e-12, 10.0\n",
    "            )\n",
    "        else:\n",
    "            raise NameError(\"Payoff type not recognized\")\n",
    "    except Exception:\n",
    "        implied_vol = np.nan\n",
    "\n",
    "    return implied_vol"
   ]
  },
  {
   "cell_type": "code",
   "execution_count": 6,
   "metadata": {},
   "outputs": [
    {
     "ename": "NameError",
     "evalue": "name 'filename' is not defined",
     "output_type": "error",
     "traceback": [
      "\u001b[1;31m---------------------------------------------------------------------------\u001b[0m",
      "\u001b[1;31mNameError\u001b[0m                                 Traceback (most recent call last)",
      "Cell \u001b[1;32mIn[6], line 1\u001b[0m\n\u001b[1;32m----> 1\u001b[0m df \u001b[38;5;241m=\u001b[39m pd\u001b[38;5;241m.\u001b[39mread_csv(\u001b[38;5;124mf\u001b[39m\u001b[38;5;124m\"\u001b[39m\u001b[38;5;124m../data/\u001b[39m\u001b[38;5;132;01m{\u001b[39;00mfilename\u001b[38;5;132;01m}\u001b[39;00m\u001b[38;5;124m.csv\u001b[39m\u001b[38;5;124m\"\u001b[39m)\n\u001b[0;32m      2\u001b[0m df[\u001b[38;5;124m\"\u001b[39m\u001b[38;5;124mmid\u001b[39m\u001b[38;5;124m\"\u001b[39m] \u001b[38;5;241m=\u001b[39m \u001b[38;5;241m0.5\u001b[39m \u001b[38;5;241m*\u001b[39m (df[\u001b[38;5;124m\"\u001b[39m\u001b[38;5;124mbest_bid\u001b[39m\u001b[38;5;124m\"\u001b[39m] \u001b[38;5;241m+\u001b[39m df[\u001b[38;5;124m\"\u001b[39m\u001b[38;5;124mbest_offer\u001b[39m\u001b[38;5;124m\"\u001b[39m])\n\u001b[0;32m      3\u001b[0m df[\u001b[38;5;124m\"\u001b[39m\u001b[38;5;124mstrike\u001b[39m\u001b[38;5;124m\"\u001b[39m] \u001b[38;5;241m=\u001b[39m df[\u001b[38;5;124m\"\u001b[39m\u001b[38;5;124mstrike_price\u001b[39m\u001b[38;5;124m\"\u001b[39m] \u001b[38;5;241m*\u001b[39m \u001b[38;5;241m0.001\u001b[39m\n",
      "\u001b[1;31mNameError\u001b[0m: name 'filename' is not defined"
     ]
    }
   ],
   "source": [
    "df = pd.read_csv(f\"../data/{filename}.csv\")\n",
    "df[\"mid\"] = 0.5 * (df[\"best_bid\"] + df[\"best_offer\"])\n",
    "df[\"strike\"] = df[\"strike_price\"] * 0.001\n",
    "df[\"payoff\"] = df[\"cp_flag\"].map(lambda x: \"call\" if x == \"C\" else \"put\")\n",
    "df[\"date\"] = pd.to_datetime(df[\"date\"], format=\"%Y%m%d\")\n",
    "df[\"exdate\"] = pd.to_datetime(df[\"exdate\"], format=\"%Y%m%d\")\n",
    "df[\"days_to_expiry\"] = (df[\"exdate\"] - df[\"date\"]).dt.days\n",
    "df[\"years_to_expiry\"] = df[\"days_to_expiry\"] / 365\n",
    "df = df[df[\"exdate\"] == part3_date]\n",
    "df = df.reset_index(drop=True)\n",
    "\n",
    "# setup rates calculator\n",
    "rates_df = pd.read_csv(\"zero_rates_20201201.csv\")\n",
    "rate_interpolate = interp1d(rates_df[\"days\"], rates_df[\"rate\"])\n",
    "df[\"rates\"] = (\n",
    "    rate_interpolate(df[\"days_to_expiry\"]) / 100.0\n",
    ")  # make it in fractions so i dont forget\n",
    "\n",
    "try:\n",
    "    if filename.lower() == \"spy_options\":\n",
    "        S = 366.02\n",
    "    elif filename.lower() == \"spx_options\":\n",
    "        S = 3662.45\n",
    "    else:\n",
    "        raise NameError(\"unknown input file\")\n",
    "except Exception as e:\n",
    "    print(e)\n",
    "\n",
    "# impl market volatility column\n",
    "df[\"vols\"] = df.apply(\n",
    "    lambda x: implied_volatility_bs(\n",
    "        S, x[\"strike\"], x[\"rates\"], x[\"mid\"], x[\"years_to_expiry\"], x[\"payoff\"]\n",
    "    ),\n",
    "    axis=1,\n",
    ")\n",
    "axis = (1,)\n",
    "df.dropna(inplace=True)"
   ]
  },
  {
   "cell_type": "code",
   "execution_count": 5,
   "metadata": {},
   "outputs": [
    {
     "ename": "NameError",
     "evalue": "name 'df' is not defined",
     "output_type": "error",
     "traceback": [
      "\u001b[1;31m---------------------------------------------------------------------------\u001b[0m",
      "\u001b[1;31mNameError\u001b[0m                                 Traceback (most recent call last)",
      "Cell \u001b[1;32mIn[5], line 2\u001b[0m\n\u001b[0;32m      1\u001b[0m \u001b[38;5;66;03m# create market DF for each timestamp\u001b[39;00m\n\u001b[1;32m----> 2\u001b[0m call_df \u001b[38;5;241m=\u001b[39m df[df[\u001b[38;5;124m\"\u001b[39m\u001b[38;5;124mpayoff\u001b[39m\u001b[38;5;124m\"\u001b[39m] \u001b[38;5;241m==\u001b[39m \u001b[38;5;124m\"\u001b[39m\u001b[38;5;124mcall\u001b[39m\u001b[38;5;124m\"\u001b[39m]\n\u001b[0;32m      3\u001b[0m put_df \u001b[38;5;241m=\u001b[39m df[df[\u001b[38;5;124m\"\u001b[39m\u001b[38;5;124mpayoff\u001b[39m\u001b[38;5;124m\"\u001b[39m] \u001b[38;5;241m==\u001b[39m \u001b[38;5;124m\"\u001b[39m\u001b[38;5;124mput\u001b[39m\u001b[38;5;124m\"\u001b[39m]\n\u001b[0;32m      4\u001b[0m strikes \u001b[38;5;241m=\u001b[39m \u001b[38;5;28msorted\u001b[39m(df[\u001b[38;5;124m\"\u001b[39m\u001b[38;5;124mstrike\u001b[39m\u001b[38;5;124m\"\u001b[39m]\u001b[38;5;241m.\u001b[39munique())\n",
      "\u001b[1;31mNameError\u001b[0m: name 'df' is not defined"
     ]
    }
   ],
   "source": [
    "# create market DF for each timestamp\n",
    "call_df = df[df[\"payoff\"] == \"call\"]\n",
    "put_df = df[df[\"payoff\"] == \"put\"]\n",
    "strikes = sorted(df[\"strike\"].unique())\n",
    "impliedvols = []\n",
    "impliedvols_bach = []\n",
    "option_type = []\n",
    "option_price = []\n",
    "for K in strikes:\n",
    "    if K > S:\n",
    "        impliedvols.append(call_df[call_df[\"strike\"] == K][\"vols\"].values[0])\n",
    "        option_type.append(\"call\")\n",
    "        option_price.append(call_df[call_df[\"strike\"] == K][\"mid\"].values[0])\n",
    "    else:\n",
    "        impliedvols.append(put_df[put_df[\"strike\"] == K][\"vols\"].values[0])\n",
    "        option_type.append(\"put\")\n",
    "        option_price.append(put_df[put_df[\"strike\"] == K][\"mid\"].values[0])\n",
    "\n",
    "day_market_df = pd.DataFrame(\n",
    "    {\n",
    "        \"strike\": strikes,\n",
    "        \"vol\": impliedvols,\n",
    "        \"option_type\": option_type,\n",
    "        \"option_price\": option_price,\n",
    "    }\n",
    ")\n",
    "day_market_df"
   ]
  },
  {
   "cell_type": "code",
   "execution_count": 82,
   "metadata": {},
   "outputs": [
    {
     "name": "stdout",
     "output_type": "stream",
     "text": [
      "BS sigma using interpolation : 0.1849096526276905\n",
      "BS Call using sigma interp : 95.2990207952223\n"
     ]
    }
   ],
   "source": [
    "start_date = pd.to_datetime(\"2020-12-01\")\n",
    "end_date = pd.to_datetime(\"2021-01-15\")\n",
    "day_diff = (end_date - start_date).days\n",
    "T = day_diff / 365.0\n",
    "rate = rate_interpolate(day_diff) / 100.0\n",
    "\n",
    "# use interpolate to get sigma\n",
    "bs_sigma = np.interp(S, day_market_df[\"strike\"], day_market_df[\"vol\"])\n",
    "print(f\"BS sigma using interpolation : {bs_sigma}\")\n",
    "\n",
    "# get call price to verif\n",
    "bs_call_price_with_sigma_interp = vanilla_option.black_scholes_model(\n",
    "    S, S, rate, bs_sigma, T\n",
    ").calculate_call_price()\n",
    "print(f\"BS Call using sigma interp : {bs_call_price_with_sigma_interp}\")"
   ]
  },
  {
   "cell_type": "code",
   "execution_count": 83,
   "metadata": {},
   "outputs": [
    {
     "name": "stdout",
     "output_type": "stream",
     "text": [
      "Bach Call using sigma interp : 93.58200000000014 vs 93.58200000000012\n"
     ]
    }
   ],
   "source": [
    "# find price of ATM option\n",
    "opt_price_interp = np.interp(S, day_market_df[\"strike\"], day_market_df[\"option_price\"])\n",
    "\n",
    "\n",
    "# bachelier sigma from interpolated price of the ATM option\n",
    "def bach_sigma(v_call, rate, T, S):\n",
    "    return (v_call * np.exp(rate * T)) / (S * np.sqrt(T / (2 * np.pi)))\n",
    "\n",
    "\n",
    "bach_sigma = bach_sigma(opt_price_interp, rate, T, S)\n",
    "\n",
    "\n",
    "\n",
    "bach_call_price = vanilla_option.bachelier_model(\n",
    "    S, S, rate, bach_sigma, T\n",
    ").calculate_call_price()\n",
    "\n",
    "\n",
    "print(f\"Bach Call using sigma interp : {bach_call_price} vs {opt_price_interp}\")"
   ]
  },
  {
   "cell_type": "markdown",
   "metadata": {},
   "source": [
    "# Exotic No.1 : Black-Scholes\n",
    "\n",
    "Expected Black Scholes payoff is defined as\n",
    "\n",
    "$$\n",
    "E[V_T]= {S_0}^\\frac{1}{3}e^{\\frac{rT}{3}}e^{\\frac{-\\sigma^2T}{9}} + 1.5(log{S_0} + (r-\\frac{\\sigma^2}{2})T) + 10\n",
    "$$\n",
    "\n",
    "Therefore, the price is\n",
    "\n",
    "$$\n",
    "V_0 = e^{-rT}E[V_T]\n",
    "$$\n"
   ]
  },
  {
   "cell_type": "code",
   "execution_count": 84,
   "metadata": {},
   "outputs": [],
   "source": [
    "# black scholes payoff\n",
    "def bs_price(S, rate, sigma, T):\n",
    "    return np.exp(-rate * T) * (\n",
    "        (\n",
    "            np.power(S, 1.0 / 3.0)\n",
    "            * np.exp((rate - 0.5 * sigma**2) * T * (1.0 / 3.0))\n",
    "            * np.exp(0.5 * (1.0 / 9.0) * T * sigma**2)\n",
    "            + 1.5 * (np.log(S) + (rate - 0.5 * sigma**2) * T)\n",
    "            + 10\n",
    "        )\n",
    "    )"
   ]
  },
  {
   "cell_type": "markdown",
   "metadata": {},
   "source": [
    "# Exotic No.1 : Bachelier\n",
    "\n",
    "Expected Bachelier payoff defined as\n",
    "\n",
    "$$\n",
    "E[V_T] = \\frac{1}{\\sqrt{2\\pi}}\\int_{-\\infty}^{\\infty} (S_0 + \\sigma S_0 \\sqrt{T} x)^\\frac{1}{3} e^\\frac{-x^2}{2}\\,dx +\n",
    "\\frac{1}{\\sqrt{2\\pi}}\\int_{-\\infty}^{\\infty} 1.5log(S_0 + \\sigma S_0 \\sqrt{T} x) e^\\frac{-x^2}{2}\\,dx\n",
    "+10\n",
    "$$\n",
    "\n",
    "Note $$S_T = S_0 + \\sigma S_0W_T$$\n",
    "\n",
    "Therefore, the price is\n",
    "\n",
    "$$\n",
    "V_0 = e^{-rT}E[V_T]\n",
    "$$\n"
   ]
  },
  {
   "cell_type": "code",
   "execution_count": 85,
   "metadata": {},
   "outputs": [],
   "source": [
    "def integrand_1(x, S, sigma, T):\n",
    "    return (\n",
    "        (1 / np.sqrt(2 * np.pi))\n",
    "        * np.power((S + sigma * S * np.sqrt(T) * x), 1.0 / 3.0)\n",
    "        * np.exp(-0.5 * np.power(x, 2))\n",
    "    )\n",
    "\n",
    "\n",
    "def integrand_2(x, S, sigma, T):\n",
    "    return (\n",
    "        (1 / np.sqrt(2 * np.pi))\n",
    "        * 1.5\n",
    "        * np.log(S + sigma * S * np.sqrt(T) * x)\n",
    "        * np.exp(-0.5 * np.power(x, 2))\n",
    "    )\n",
    "\n",
    "\n",
    "def bachelier_price(S, rate, sigma, T):\n",
    "    lower_bound = -1 / (sigma * np.sqrt(T))  # log term lower bound\n",
    "    I_1 = quad(lambda x: integrand_1(x, S, sigma, T), lower_bound, np.inf)\n",
    "    I_2 = quad(lambda x: integrand_2(x, S, sigma, T), lower_bound, np.inf)\n",
    "    V_0_bachelier = np.exp(-rate * T) * (I_1[0] + I_2[0] + 10)\n",
    "    return V_0_bachelier"
   ]
  },
  {
   "cell_type": "markdown",
   "metadata": {},
   "source": [
    "# Exotic No.1 : SABR & Static Replication\n",
    "\n",
    "For SABR payoff, we must retrieve the volatility using previous calibration result\n",
    "\n",
    "$$\n",
    "h(S_T) = S_T^{\\frac{1}{3}} + 1.5 log(S_T) + 10 \\\\\n",
    "h''(S_T) = -\\frac{2}{9}S_T^{-\\frac{5}{3}} - 1.5\\frac{1}{S_T^2} \\\\\n",
    "F = S_0 e ^ {rT}\n",
    "$$\n",
    "\n",
    "Therefore, the price is\n",
    "\n",
    "$$\n",
    "V_0 = e^{-rT}h(F) + \\int_{0}^{F} h''(K)P(K) \\,dK + \\int_{F}^{\\infty} h''(K)C(K) \\,dK\n",
    "$$\n"
   ]
  },
  {
   "cell_type": "code",
   "execution_count": 86,
   "metadata": {},
   "outputs": [],
   "source": [
    "# SABR Related\n",
    "# change SABR params\n",
    "\n",
    "\n",
    "spy_sabr_params = {\n",
    "    45: {\n",
    "        \"alpha\": 0.9081326337814014,\n",
    "        \"rho\": -0.4887794457550238,\n",
    "        \"nu\": 2.7285163417661487,\n",
    "    },\n",
    "}\n",
    "\n",
    "\n",
    "spx_sabr_params = {\n",
    "    45: {\n",
    "        \"alpha\": 1.8165044370781172,\n",
    "        \"rho\": -0.4043017672449347,\n",
    "        \"nu\": 2.790158312103804,\n",
    "    },\n",
    "}\n",
    "\n",
    "\n",
    "\n",
    "try:\n",
    "    if filename.lower() == \"spy_options\":\n",
    "        alpha = spy_sabr_params[day_diff][\"alpha\"]\n",
    "\n",
    "        rho = spy_sabr_params[day_diff][\"rho\"]\n",
    "\n",
    "        nu = spy_sabr_params[day_diff][\"nu\"]\n",
    "\n",
    "\n",
    "        beta = 0.7\n",
    "\n",
    "    elif filename.lower() == \"spx_options\":\n",
    "        alpha = spx_sabr_params[day_diff][\"alpha\"]\n",
    "\n",
    "        rho = spx_sabr_params[day_diff][\"rho\"]\n",
    "\n",
    "        nu = spx_sabr_params[day_diff][\"nu\"]\n",
    "\n",
    "\n",
    "        beta = 0.7\n",
    "    else:\n",
    "\n",
    "        raise NameError(\"unknown input file\")\n",
    "\n",
    "\n",
    "except Exception as e:\n",
    "    print(e)\n",
    "\n",
    "\n",
    "\n",
    "# i just use prof Tee\n",
    "\n",
    "\n",
    "\n",
    "def SABR(\n",
    "    F: float, K: float, T: float, alpha: float, beta: float, rho: float, nu: float\n",
    ") -> float:\n",
    "    X = K\n",
    "\n",
    "    # if K is at-the-money-forward\n",
    "\n",
    "    if abs(F - K) < 1e-12:\n",
    "        numer1 = (((1 - beta) ** 2) / 24) * alpha * alpha / (F ** (2 - 2 * beta))\n",
    "\n",
    "        numer2 = 0.25 * rho * beta * nu * alpha / (F ** (1 - beta))\n",
    "\n",
    "        numer3 = ((2 - 3 * rho * rho) / 24) * nu * nu\n",
    "\n",
    "        VolAtm = alpha * (1 + (numer1 + numer2 + numer3) * T) / (F ** (1 - beta))\n",
    "\n",
    "        sabrsigma = VolAtm\n",
    "    else:\n",
    "\n",
    "        z = (nu / alpha) * ((F * X) ** (0.5 * (1 - beta))) * np.log(F / X)\n",
    "\n",
    "        zhi = np.log((((1 - 2 * rho * z + z * z) ** 0.5) + z - rho) / (1 - rho))\n",
    "\n",
    "        numer1 = (((1 - beta) ** 2) / 24) * ((alpha * alpha) / ((F * X) ** (1 - beta)))\n",
    "\n",
    "        numer2 = 0.25 * rho * beta * nu * alpha / ((F * X) ** ((1 - beta) / 2))\n",
    "\n",
    "        numer3 = ((2 - 3 * rho * rho) / 24) * nu * nu\n",
    "\n",
    "        numer = alpha * (1 + (numer1 + numer2 + numer3) * T) * z\n",
    "\n",
    "        denom1 = ((1 - beta) ** 2 / 24) * (np.log(F / X)) ** 2\n",
    "\n",
    "        denom2 = (((1 - beta) ** 4) / 1920) * ((np.log(F / X)) ** 4)\n",
    "\n",
    "        denom = ((F * X) ** ((1 - beta) / 2)) * (1 + denom1 + denom2) * zhi\n",
    "\n",
    "        sabrsigma = numer / denom\n",
    "\n",
    "\n",
    "    return sabrsigma"
   ]
  },
  {
   "cell_type": "code",
   "execution_count": 87,
   "metadata": {},
   "outputs": [],
   "source": [
    "def h_func(F):\n",
    "    return np.power(F, 1.0 / 3.0) + 1.5 * np.log(F) + 10\n",
    "\n",
    "\n",
    "def h_second_deriv(F):\n",
    "    return (-2 / 9) * np.power(F, -5.0 / 3.0) - 1.5 * np.power(F, -2)\n",
    "\n",
    "\n",
    "def sabr_put(x, S, rate, T, alpha, beta, rho, nu):\n",
    "    sigma_p = SABR(S * np.exp(rate * T), x, T, alpha, beta, rho, nu)\n",
    "    bsmodel = vanilla_option.black_scholes_model(S, x, rate, sigma_p, T)\n",
    "    return bsmodel.calculate_put_price()\n",
    "\n",
    "\n",
    "def sabr_call(x, S, rate, T, alpha, beta, rho, nu):\n",
    "    sigma_c = SABR(S * np.exp(rate * T), x, T, alpha, beta, rho, nu)\n",
    "    bsmodel = vanilla_option.black_scholes_model(S, x, rate, sigma_c, T)\n",
    "    return bsmodel.calculate_call_price()\n",
    "\n",
    "\n",
    "def sabr_price(S, rate, T):\n",
    "    F = S * np.exp(rate * T)\n",
    "    I_put = quad(\n",
    "        lambda x: h_second_deriv(x) * sabr_put(x, S, rate, T, alpha, beta, rho, nu),\n",
    "        0,\n",
    "        F,\n",
    "    )\n",
    "    I_call = quad(\n",
    "        lambda x: h_second_deriv(x) * sabr_call(x, S, rate, T, alpha, beta, rho, nu),\n",
    "        F,\n",
    "        np.inf,\n",
    "    )\n",
    "    V_0_SABR = np.exp(-rate * T) * h_func(F) + I_put[0] + I_call[0]\n",
    "    return V_0_SABR"
   ]
  },
  {
   "cell_type": "code",
   "execution_count": 88,
   "metadata": {},
   "outputs": [],
   "source": [
    "V_0_black_scholes = bs_price(S, rate, bs_sigma, T)\n",
    "V_0_bachelier = bachelier_price(S, rate, bach_sigma, T)\n",
    "V_0_SABR = sabr_price(S, rate, T)"
   ]
  },
  {
   "cell_type": "markdown",
   "metadata": {},
   "source": [
    "# Model Free Integrated Variance - Black Scholes\n",
    "\n",
    "$$\n",
    "E\\Biggl[\\int_{0}^{T} \\sigma_t^2 \\,dt\\Biggr] = 2e^{rT}\\Biggl(\\int_{0}^{F} \\frac{P(K)}{K^2} \\,dK + \\int_{F}^{\\infty} \\frac{C(K)}{K^2} \\,dK\\Biggr)\n",
    "$$\n"
   ]
  },
  {
   "cell_type": "code",
   "execution_count": 89,
   "metadata": {},
   "outputs": [],
   "source": [
    "def bs_put_integ(x, S, rate, sigma, T):\n",
    "    bsmodel = vanilla_option.black_scholes_model(S, x, rate, sigma, T)\n",
    "    return bsmodel.calculate_put_price() / (np.power(x, 2))\n",
    "\n",
    "\n",
    "def bs_call_integ(x, S, rate, sigma, T):\n",
    "    bsmodel = vanilla_option.black_scholes_model(S, x, rate, sigma, T)\n",
    "    return bsmodel.calculate_call_price() / (np.power(x, 2))"
   ]
  },
  {
   "cell_type": "code",
   "execution_count": 90,
   "metadata": {},
   "outputs": [
    {
     "data": {
      "text/plain": [
       "0.004215400228959317"
      ]
     },
     "execution_count": 90,
     "metadata": {},
     "output_type": "execute_result"
    }
   ],
   "source": [
    "F = S * np.exp(rate * T)\n",
    "I_put = quad(lambda x: bs_put_integ(x, S, rate, bs_sigma, T), 0.0, F)\n",
    "I_call = quad(lambda x: bs_call_integ(x, S, rate, bs_sigma, T), F, np.inf)\n",
    "bs_E_var = 2 * np.exp(rate * T) * (I_put[0] + I_call[0])\n",
    "bs_E_var"
   ]
  },
  {
   "cell_type": "markdown",
   "metadata": {},
   "source": [
    "# Model Free Integrated Variance - Bachelier\n"
   ]
  },
  {
   "cell_type": "code",
   "execution_count": 91,
   "metadata": {},
   "outputs": [],
   "source": [
    "def bach_put_integ(x, S, rate, sigma, T):\n",
    "    bachmodel = vanilla_option.bachelier_model(S, x, rate, sigma, T)\n",
    "    return bachmodel.calculate_put_price() / (np.power(x, 2))\n",
    "\n",
    "\n",
    "def bach_call_integ(x, S, rate, sigma, T):\n",
    "    bachmodel = vanilla_option.bachelier_model(S, x, rate, sigma, T)\n",
    "    return bachmodel.calculate_call_price() / (np.power(x, 2))"
   ]
  },
  {
   "cell_type": "code",
   "execution_count": 92,
   "metadata": {},
   "outputs": [
    {
     "data": {
      "text/plain": [
       "0.004130001006070286"
      ]
     },
     "execution_count": 92,
     "metadata": {},
     "output_type": "execute_result"
    }
   ],
   "source": [
    "F = S * np.exp(rate * T)\n",
    "I_put = quad(lambda x: bach_put_integ(x, S, rate, bach_sigma, T), 0.0, F)\n",
    "I_call = quad(lambda x: bach_call_integ(x, S, rate, bach_sigma, T), F, np.inf)\n",
    "bach_E_var = 2 * np.exp(rate * T) * (I_put[0] + I_call[0])\n",
    "bach_E_var"
   ]
  },
  {
   "cell_type": "markdown",
   "metadata": {},
   "source": [
    "# Model Free Integrated Variance - SABR & Static Replication\n"
   ]
  },
  {
   "cell_type": "code",
   "execution_count": 93,
   "metadata": {},
   "outputs": [],
   "source": [
    "def sabr_put_integ(x, S, rate, T, alpha, beta, rho, nu):\n",
    "    F = S * np.exp(rate * T)\n",
    "    sigma_p = SABR(F, x, T, alpha, beta, rho, nu)\n",
    "    bsmodel = vanilla_option.black_scholes_model(S, x, rate, sigma_p, T)\n",
    "    return bsmodel.calculate_put_price() / (np.power(x, 2))\n",
    "\n",
    "\n",
    "def sabr_call_integ(x, S, rate, T, alpha, beta, rho, nu):\n",
    "    F = S * np.exp(rate * T)\n",
    "    sigma_c = SABR(F, x, T, alpha, beta, rho, nu)\n",
    "    bsmodel = vanilla_option.black_scholes_model(S, x, rate, sigma_c, T)\n",
    "    return bsmodel.calculate_call_price() / (np.power(x, 2))"
   ]
  },
  {
   "cell_type": "code",
   "execution_count": 94,
   "metadata": {},
   "outputs": [
    {
     "data": {
      "text/plain": [
       "0.00635098900700971"
      ]
     },
     "execution_count": 94,
     "metadata": {},
     "output_type": "execute_result"
    }
   ],
   "source": [
    "F = S * np.exp(rate * T)\n",
    "I_put = quad(lambda x: sabr_put_integ(x, S, rate, T, alpha, beta, rho, nu), 0.0, F)\n",
    "I_call = quad(lambda x: sabr_call_integ(x, S, rate, T, alpha, beta, rho, nu), F, np.inf)\n",
    "sabr_E_var = 2 * np.exp(rate * T) * (I_put[0] + I_call[0])\n",
    "sabr_E_var"
   ]
  },
  {
   "cell_type": "code",
   "execution_count": 95,
   "metadata": {},
   "outputs": [],
   "source": [
    "out1 = {\n",
    "    \"bs_sigma\": bs_sigma,\n",
    "    \"bach_sigma\": bach_sigma,\n",
    "    \"bs_price\": V_0_black_scholes,\n",
    "    \"bach_price\": V_0_bachelier,\n",
    "    \"sabr_price\": V_0_SABR,\n",
    "}\n",
    "\n",
    "out2 = {\n",
    "    \"bs_sigma\": bs_sigma,\n",
    "    \"bach_sigma\": bach_sigma,\n",
    "    \"bs_price\": bs_E_var,\n",
    "    \"bach_price\": bach_E_var,\n",
    "    \"sabr_price\": sabr_E_var,\n",
    "}\n",
    "\n",
    "\n",
    "contract1 = pd.DataFrame.from_dict(out1.items())\n",
    "contract1.columns = [\"params\", \"value\"]\n",
    "contract1.to_csv(f\"{filename}_contract_1.csv\")\n",
    "contract2 = pd.DataFrame.from_dict(out2.items())\n",
    "contract2.columns = [\"params\", \"value\"]\n",
    "contract2.to_csv(f\"{filename}_contract_2.csv\")"
   ]
  },
  {
   "cell_type": "code",
   "execution_count": null,
   "metadata": {},
   "outputs": [],
   "source": []
  }
 ],
 "metadata": {
  "kernelspec": {
   "display_name": "Python 3 (ipykernel)",
   "language": "python",
   "name": "python3"
  },
  "language_info": {
   "codemirror_mode": {
    "name": "ipython",
    "version": 3
   },
   "file_extension": ".py",
   "mimetype": "text/x-python",
   "name": "python",
   "nbconvert_exporter": "python",
   "pygments_lexer": "ipython3",
   "version": "3.12.4"
  }
 },
 "nbformat": 4,
 "nbformat_minor": 4
}
