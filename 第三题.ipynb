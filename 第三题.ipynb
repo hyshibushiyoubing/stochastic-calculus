{
 "cells": [
  {
   "cell_type": "code",
   "execution_count": 192,
   "id": "22b55cf5-78e3-4bff-96bd-96a476758a73",
   "metadata": {},
   "outputs": [
    {
     "data": {
      "text/html": [
       "<div>\n",
       "<style scoped>\n",
       "    .dataframe tbody tr th:only-of-type {\n",
       "        vertical-align: middle;\n",
       "    }\n",
       "\n",
       "    .dataframe tbody tr th {\n",
       "        vertical-align: top;\n",
       "    }\n",
       "\n",
       "    .dataframe thead th {\n",
       "        text-align: right;\n",
       "    }\n",
       "</style>\n",
       "<table border=\"1\" class=\"dataframe\">\n",
       "  <thead>\n",
       "    <tr style=\"text-align: right;\">\n",
       "      <th></th>\n",
       "      <th>date</th>\n",
       "      <th>exdate</th>\n",
       "      <th>cp_flag</th>\n",
       "      <th>strike_price</th>\n",
       "      <th>best_bid</th>\n",
       "      <th>best_offer</th>\n",
       "      <th>exercise_style</th>\n",
       "    </tr>\n",
       "  </thead>\n",
       "  <tbody>\n",
       "    <tr>\n",
       "      <th>0</th>\n",
       "      <td>20201201</td>\n",
       "      <td>20201218</td>\n",
       "      <td>C</td>\n",
       "      <td>100000</td>\n",
       "      <td>3547.6</td>\n",
       "      <td>3570.5</td>\n",
       "      <td>E</td>\n",
       "    </tr>\n",
       "    <tr>\n",
       "      <th>1</th>\n",
       "      <td>20201201</td>\n",
       "      <td>20201218</td>\n",
       "      <td>C</td>\n",
       "      <td>200000</td>\n",
       "      <td>3447.6</td>\n",
       "      <td>3470.5</td>\n",
       "      <td>E</td>\n",
       "    </tr>\n",
       "    <tr>\n",
       "      <th>2</th>\n",
       "      <td>20201201</td>\n",
       "      <td>20201218</td>\n",
       "      <td>C</td>\n",
       "      <td>300000</td>\n",
       "      <td>3347.7</td>\n",
       "      <td>3370.6</td>\n",
       "      <td>E</td>\n",
       "    </tr>\n",
       "    <tr>\n",
       "      <th>3</th>\n",
       "      <td>20201201</td>\n",
       "      <td>20201218</td>\n",
       "      <td>C</td>\n",
       "      <td>400000</td>\n",
       "      <td>3247.7</td>\n",
       "      <td>3270.6</td>\n",
       "      <td>E</td>\n",
       "    </tr>\n",
       "    <tr>\n",
       "      <th>4</th>\n",
       "      <td>20201201</td>\n",
       "      <td>20201218</td>\n",
       "      <td>C</td>\n",
       "      <td>500000</td>\n",
       "      <td>3147.7</td>\n",
       "      <td>3170.6</td>\n",
       "      <td>E</td>\n",
       "    </tr>\n",
       "  </tbody>\n",
       "</table>\n",
       "</div>"
      ],
      "text/plain": [
       "       date    exdate cp_flag  strike_price  best_bid  best_offer  \\\n",
       "0  20201201  20201218       C        100000    3547.6      3570.5   \n",
       "1  20201201  20201218       C        200000    3447.6      3470.5   \n",
       "2  20201201  20201218       C        300000    3347.7      3370.6   \n",
       "3  20201201  20201218       C        400000    3247.7      3270.6   \n",
       "4  20201201  20201218       C        500000    3147.7      3170.6   \n",
       "\n",
       "  exercise_style  \n",
       "0              E  \n",
       "1              E  \n",
       "2              E  \n",
       "3              E  \n",
       "4              E  "
      ]
     },
     "execution_count": 192,
     "metadata": {},
     "output_type": "execute_result"
    }
   ],
   "source": [
    "import datetime as dt\n",
    "import pandas as pd\n",
    "from pprint import pprint\n",
    "\n",
    "\n",
    "spx_df = pd.read_csv('SPX_options.csv')\n",
    "spx_df.head()"
   ]
  },
  {
   "cell_type": "code",
   "execution_count": 9,
   "id": "ec0f872b-d968-4e19-8b54-75ac6e21477f",
   "metadata": {},
   "outputs": [
    {
     "data": {
      "text/plain": [
       "array([20201218, 20210115, 20210219], dtype=int64)"
      ]
     },
     "execution_count": 9,
     "metadata": {},
     "output_type": "execute_result"
    }
   ],
   "source": [
    "spx_df['exdate'].unique()"
   ]
  },
  {
   "cell_type": "code",
   "execution_count": 11,
   "id": "b6c40529-6691-4a86-9ee6-a321ae7b2279",
   "metadata": {},
   "outputs": [
    {
     "data": {
      "text/plain": [
       "cp_flag\n",
       "C    1036\n",
       "P    1036\n",
       "Name: count, dtype: int64"
      ]
     },
     "execution_count": 11,
     "metadata": {},
     "output_type": "execute_result"
    }
   ],
   "source": [
    "spx_df['cp_flag'].value_counts()"
   ]
  },
  {
   "cell_type": "code",
   "execution_count": 13,
   "id": "745d9996-36ac-4e24-bda5-6feec1ce8ef8",
   "metadata": {},
   "outputs": [
    {
     "name": "stdout",
     "output_type": "stream",
     "text": [
      "{datetime.date(2020, 12, 18): 0.04657534246575343,\n",
      " datetime.date(2021, 1, 15): 0.1232876712328767,\n",
      " datetime.date(2021, 2, 19): 0.2191780821917808}\n"
     ]
    }
   ],
   "source": [
    "today = dt.date(2020, 12, 1)\n",
    "expiries = [pd.Timestamp(str(x)).date() for x in spx_df['exdate'].unique()]\n",
    "T = [(exdate-today).days/365.0 for exdate in expiries]\n",
    "pprint(dict(zip(expiries, T)))"
   ]
  },
  {
   "cell_type": "code",
   "execution_count": 15,
   "id": "899c34b6-8c0f-4499-9240-679284c2024f",
   "metadata": {},
   "outputs": [
    {
     "data": {
      "text/html": [
       "<div>\n",
       "<style scoped>\n",
       "    .dataframe tbody tr th:only-of-type {\n",
       "        vertical-align: middle;\n",
       "    }\n",
       "\n",
       "    .dataframe tbody tr th {\n",
       "        vertical-align: top;\n",
       "    }\n",
       "\n",
       "    .dataframe thead th {\n",
       "        text-align: right;\n",
       "    }\n",
       "</style>\n",
       "<table border=\"1\" class=\"dataframe\">\n",
       "  <thead>\n",
       "    <tr style=\"text-align: right;\">\n",
       "      <th></th>\n",
       "      <th>date</th>\n",
       "      <th>days</th>\n",
       "      <th>rate</th>\n",
       "    </tr>\n",
       "  </thead>\n",
       "  <tbody>\n",
       "    <tr>\n",
       "      <th>0</th>\n",
       "      <td>20201201</td>\n",
       "      <td>7</td>\n",
       "      <td>0.102280</td>\n",
       "    </tr>\n",
       "    <tr>\n",
       "      <th>1</th>\n",
       "      <td>20201201</td>\n",
       "      <td>13</td>\n",
       "      <td>0.114128</td>\n",
       "    </tr>\n",
       "    <tr>\n",
       "      <th>2</th>\n",
       "      <td>20201201</td>\n",
       "      <td>49</td>\n",
       "      <td>0.216480</td>\n",
       "    </tr>\n",
       "    <tr>\n",
       "      <th>3</th>\n",
       "      <td>20201201</td>\n",
       "      <td>77</td>\n",
       "      <td>0.220707</td>\n",
       "    </tr>\n",
       "    <tr>\n",
       "      <th>4</th>\n",
       "      <td>20201201</td>\n",
       "      <td>104</td>\n",
       "      <td>0.219996</td>\n",
       "    </tr>\n",
       "  </tbody>\n",
       "</table>\n",
       "</div>"
      ],
      "text/plain": [
       "       date  days      rate\n",
       "0  20201201     7  0.102280\n",
       "1  20201201    13  0.114128\n",
       "2  20201201    49  0.216480\n",
       "3  20201201    77  0.220707\n",
       "4  20201201   104  0.219996"
      ]
     },
     "execution_count": 15,
     "metadata": {},
     "output_type": "execute_result"
    }
   ],
   "source": [
    "rates_df = pd.read_csv('zero_rates_20201201.csv')\n",
    "rates_df.head()"
   ]
  },
  {
   "cell_type": "code",
   "execution_count": 17,
   "id": "589b7b77-79bb-493d-ac5c-f988f47f43eb",
   "metadata": {},
   "outputs": [
    {
     "data": {
      "text/html": [
       "<div>\n",
       "<style scoped>\n",
       "    .dataframe tbody tr th:only-of-type {\n",
       "        vertical-align: middle;\n",
       "    }\n",
       "\n",
       "    .dataframe tbody tr th {\n",
       "        vertical-align: top;\n",
       "    }\n",
       "\n",
       "    .dataframe thead th {\n",
       "        text-align: right;\n",
       "    }\n",
       "</style>\n",
       "<table border=\"1\" class=\"dataframe\">\n",
       "  <thead>\n",
       "    <tr style=\"text-align: right;\">\n",
       "      <th></th>\n",
       "      <th>date</th>\n",
       "      <th>days</th>\n",
       "      <th>rate</th>\n",
       "    </tr>\n",
       "  </thead>\n",
       "  <tbody>\n",
       "    <tr>\n",
       "      <th>40</th>\n",
       "      <td>20201201</td>\n",
       "      <td>3212</td>\n",
       "      <td>0.878441</td>\n",
       "    </tr>\n",
       "    <tr>\n",
       "      <th>41</th>\n",
       "      <td>20201201</td>\n",
       "      <td>3303</td>\n",
       "      <td>0.898843</td>\n",
       "    </tr>\n",
       "    <tr>\n",
       "      <th>42</th>\n",
       "      <td>20201201</td>\n",
       "      <td>3394</td>\n",
       "      <td>0.918827</td>\n",
       "    </tr>\n",
       "    <tr>\n",
       "      <th>43</th>\n",
       "      <td>20201201</td>\n",
       "      <td>3485</td>\n",
       "      <td>0.938031</td>\n",
       "    </tr>\n",
       "    <tr>\n",
       "      <th>44</th>\n",
       "      <td>20201201</td>\n",
       "      <td>3576</td>\n",
       "      <td>0.956515</td>\n",
       "    </tr>\n",
       "  </tbody>\n",
       "</table>\n",
       "</div>"
      ],
      "text/plain": [
       "        date  days      rate\n",
       "40  20201201  3212  0.878441\n",
       "41  20201201  3303  0.898843\n",
       "42  20201201  3394  0.918827\n",
       "43  20201201  3485  0.938031\n",
       "44  20201201  3576  0.956515"
      ]
     },
     "execution_count": 17,
     "metadata": {},
     "output_type": "execute_result"
    }
   ],
   "source": [
    "rates_df.tail()"
   ]
  },
  {
   "cell_type": "code",
   "execution_count": 19,
   "id": "3b71b75e-d8ca-4985-ab09-06261cd4144a",
   "metadata": {},
   "outputs": [
    {
     "name": "stdout",
     "output_type": "stream",
     "text": [
      "17\n"
     ]
    }
   ],
   "source": [
    "from scipy.interpolate import interp1d\n",
    "\n",
    "days_to_expiry1 = (expiries[0] - today).days\n",
    "print(days_to_expiry1)"
   ]
  },
  {
   "cell_type": "code",
   "execution_count": 21,
   "id": "41ca5466-21e7-4408-b828-2842ed23adcc",
   "metadata": {},
   "outputs": [
    {
     "name": "stdout",
     "output_type": "stream",
     "text": [
      "0.12550044444444444\n"
     ]
    }
   ],
   "source": [
    "zero_rate_curve = interp1d(rates_df['days'], rates_df['rate'])\n",
    "rate1 = zero_rate_curve(days_to_expiry1)\n",
    "print(rate1)"
   ]
  },
  {
   "cell_type": "code",
   "execution_count": 27,
   "id": "5262e02a-9beb-4cbe-8eca-33853be010f5",
   "metadata": {},
   "outputs": [
    {
     "data": {
      "text/plain": [
       "0.0010228"
      ]
     },
     "execution_count": 27,
     "metadata": {},
     "output_type": "execute_result"
    }
   ],
   "source": [
    "S0 = 3662.45  # Spot price of S&P500 (SPX)\n",
    "r = rates_df['rate'].iloc[0] / 100  # Risk-free rate, assumed first row\n",
    "T = 45 / 365  # Time to maturity in years"
   ]
  },
  {
   "cell_type": "code",
   "execution_count": null,
   "id": "dfec5e81-fb87-49d4-9675-fbb35306195e",
   "metadata": {},
   "outputs": [],
   "source": [
    "# Black-Scholes Model\n",
    "def BlackScholesCall(S, K, r, sigma, T):\n",
    "    d1 = (np.log(S/K)+(r+sigma**2/2)*T) / (sigma*np.sqrt(T))\n",
    "    d2 = d1 - sigma*np.sqrt(T)\n",
    "    return S*norm.cdf(d1) - K*np.exp(-r*T)*norm.cdf(d2)\n",
    "\n",
    "def BlackScholesPut(S, K, r, sigma, T):\n",
    "    d1 = (np.log(S/K)+(r+sigma**2/2)*T) / (sigma*np.sqrt(T))\n",
    "    d2 = d1 - sigma*np.sqrt(T)\n",
    "    return K*np.exp(-r*T)*norm.cdf(-d2) - S*norm.cdf(-d1)\n",
    "\n",
    "# Bachelier Model\n",
    "def BachelierCall(S, K, r, sigma, T):\n",
    "    d = (S-K) / (S*sigma*np.sqrt(T))\n",
    "    disc = np.exp(-r*T)\n",
    "    return disc*((S-K)*norm.cdf(d)+S*sigma*np.sqrt(T)*norm.pdf(d))\n",
    "\n",
    "def BachelierPut(S, K, r, sigma, T):\n",
    "    d = (S-K) / (S*sigma*np.sqrt(T))\n",
    "    disc = np.exp(-r*T)\n",
    "    return disc*((K-S)*norm.cdf(-d)+S*sigma*np.sqrt(T)*norm.pdf(-d))"
   ]
  },
  {
   "cell_type": "code",
   "execution_count": null,
   "id": "f6547bb8-01d4-424c-b5c2-d1630ca61bc1",
   "metadata": {},
   "outputs": [],
   "source": [
    "def bachelier_price(S, K, r, sigma, T, option_type='call'):\n",
    "    d = (S - K) / (S * sigma * np.sqrt(T))\n",
    "    disc = np.exp(-r * T)\n",
    "    \n",
    "    if option_type == 'call':\n",
    "        return disc * ((S - K) * norm.cdf(d) + S * sigma * np.sqrt(T) * norm.pdf(d))\n",
    "    elif option_type == 'put':\n",
    "        return disc * ((K - S) * norm.cdf(-d) + S * sigma * np.sqrt(T) * norm.pdf(-d))\n",
    "    else:\n",
    "        raise ValueError(\"Invalid option type. Use 'call' or 'put'.\")\n"
   ]
  },
  {
   "cell_type": "code",
   "execution_count": 30,
   "id": "da8686ce-b10e-4a96-a193-9324c8d6db47",
   "metadata": {},
   "outputs": [],
   "source": [
    "from scipy.stats import norm\n",
    "import numpy as np"
   ]
  },
  {
   "cell_type": "markdown",
   "id": "1ebc93a9-3489-4f84-a1fc-2f855649e3e9",
   "metadata": {},
   "source": [
    "### Payoff function:"
   ]
  },
  {
   "cell_type": "markdown",
   "id": "2f89eb2c-eaba-4695-a680-3c3ff39a319f",
   "metadata": {},
   "source": [
    "$$\n",
    "\\text{Payoff}(S_T) = S_T^{1/3} + 1.5 \\times \\log(S_T) + 10.0\n",
    "$$"
   ]
  },
  {
   "cell_type": "code",
   "execution_count": 176,
   "id": "dd3f785b-38d8-4328-a4a0-2b59d727e3b1",
   "metadata": {},
   "outputs": [],
   "source": [
    "start = dt.date(2020, 12, 1)\n",
    "expiry = dt.date(2021, 1, 15)\n",
    "T = (expiry - start).days/365\n",
    "\n",
    "x_S = 3662.45\n",
    "y_S = 366.02\n",
    "\n",
    "x_K = 3660\n",
    "y_K = 366"
   ]
  },
  {
   "cell_type": "code",
   "execution_count": 257,
   "id": "15647c06-f853-4606-8739-84a2deec7540",
   "metadata": {},
   "outputs": [
    {
     "data": {
      "text/plain": [
       "0.1232876712328767"
      ]
     },
     "execution_count": 257,
     "metadata": {},
     "output_type": "execute_result"
    }
   ],
   "source": [
    "T"
   ]
  },
  {
   "cell_type": "code",
   "execution_count": 160,
   "id": "b0dfc8a9-b1af-49a5-ab74-30ce47d93313",
   "metadata": {},
   "outputs": [],
   "source": [
    "def integrand(x):\n",
    "    return x **  1/3 + 1.5 * np.log(x) + 10.0"
   ]
  },
  {
   "cell_type": "code",
   "execution_count": 174,
   "id": "3bbf634e-4fdd-4142-a77a-de230dad5f87",
   "metadata": {},
   "outputs": [
    {
     "data": {
      "text/plain": [
       "0.30709993734655483"
      ]
     },
     "execution_count": 174,
     "metadata": {},
     "output_type": "execute_result"
    }
   ],
   "source": [
    "r = integrand(T * 365) / 100\n",
    "r"
   ]
  },
  {
   "cell_type": "markdown",
   "id": "a8fe2505-ff28-44d4-aef7-1f7775ed6328",
   "metadata": {},
   "source": [
    "### 1.Black-Scholes model:"
   ]
  },
  {
   "cell_type": "markdown",
   "id": "7aabb8fc-1a78-4316-913e-6b0a0d2168e2",
   "metadata": {},
   "source": [
    "$$\n",
    "S_T = S_0 \\cdot e^{\\left(r - \\frac{\\sigma^2}{2}\\right)T + \\sigma \\sqrt{T} Z}\n",
    "$$"
   ]
  },
  {
   "cell_type": "markdown",
   "id": "607c359e-fafb-4911-8f10-e9151ad8fffb",
   "metadata": {},
   "source": [
    ">the expected value of this payoff"
   ]
  },
  {
   "cell_type": "markdown",
   "id": "a3702738-13c0-4a1b-855a-23ce12ba1290",
   "metadata": {},
   "source": [
    "$$\n",
    "E[V_T]= {S_0}^\\frac{1}{3}e^{\\frac{rT}{3}}e^{\\frac{-\\sigma^2T}{18}} + 1.5(log{S_0} + (r-\\frac{\\sigma^2}{2})T) + 10\n",
    "$$"
   ]
  },
  {
   "cell_type": "markdown",
   "id": "0da660a6-3ac0-4355-a20c-fe3504731425",
   "metadata": {},
   "source": [
    ">the price:"
   ]
  },
  {
   "cell_type": "markdown",
   "id": "168c429d-3e72-4ffe-9ffc-56da19bc7a5f",
   "metadata": {},
   "source": [
    "$$\n",
    "V_0 = e^{-rT}E[V_T]\n",
    "$$"
   ]
  },
  {
   "cell_type": "code",
   "execution_count": 200,
   "id": "ef380e7a-294a-41ee-9c2e-4dca79d18685",
   "metadata": {},
   "outputs": [
    {
     "data": {
      "text/plain": [
       "nan"
      ]
     },
     "execution_count": 200,
     "metadata": {},
     "output_type": "execute_result"
    }
   ],
   "source": [
    "x_S = 3662.45\n",
    "x_K = 3660\n",
    "r = integrand(T * 365) / 100\n",
    "T = (expiry - start).days/365\n",
    "def calculate_atm_volatility(data, S, K, r, T):\n",
    "    atm_call = data[(data['strike_price'] == K) & (data['cp_flag'] == 'C')]\n",
    "    atm_put = data[(data['strike_price'] == K) & (data['cp_flag'] == 'P')]\n",
    "\n",
    "    if not atm_call.empty and not atm_put.empty:\n",
    "        sigma_call = impliedVolatility(S, K, r, atm_call.iloc[0]['mid_price'], T, 'C')\n",
    "        sigma_put = impliedVolatility(S, K, r, atm_put.iloc[0]['mid_price'], T, 'P')\n",
    "        return (sigma_call + sigma_put) / 2\n",
    "    else:\n",
    "        return np.nan\n",
    "spx_bs_sigma = calculate_atm_volatility(spx_df,x_S,x_K,r,T)\n",
    "spx_bs_sigma"
   ]
  },
  {
   "cell_type": "code",
   "execution_count": 194,
   "id": "b4e69b5b-ff79-4243-825b-cbccf89e9b3a",
   "metadata": {},
   "outputs": [
    {
     "data": {
      "text/html": [
       "<div>\n",
       "<style scoped>\n",
       "    .dataframe tbody tr th:only-of-type {\n",
       "        vertical-align: middle;\n",
       "    }\n",
       "\n",
       "    .dataframe tbody tr th {\n",
       "        vertical-align: top;\n",
       "    }\n",
       "\n",
       "    .dataframe thead th {\n",
       "        text-align: right;\n",
       "    }\n",
       "</style>\n",
       "<table border=\"1\" class=\"dataframe\">\n",
       "  <thead>\n",
       "    <tr style=\"text-align: right;\">\n",
       "      <th></th>\n",
       "      <th>date</th>\n",
       "      <th>exdate</th>\n",
       "      <th>cp_flag</th>\n",
       "      <th>strike_price</th>\n",
       "      <th>best_bid</th>\n",
       "      <th>best_offer</th>\n",
       "      <th>exercise_style</th>\n",
       "    </tr>\n",
       "  </thead>\n",
       "  <tbody>\n",
       "    <tr>\n",
       "      <th>0</th>\n",
       "      <td>20201201</td>\n",
       "      <td>20201218</td>\n",
       "      <td>C</td>\n",
       "      <td>100000</td>\n",
       "      <td>3547.6</td>\n",
       "      <td>3570.5</td>\n",
       "      <td>E</td>\n",
       "    </tr>\n",
       "    <tr>\n",
       "      <th>1</th>\n",
       "      <td>20201201</td>\n",
       "      <td>20201218</td>\n",
       "      <td>C</td>\n",
       "      <td>200000</td>\n",
       "      <td>3447.6</td>\n",
       "      <td>3470.5</td>\n",
       "      <td>E</td>\n",
       "    </tr>\n",
       "    <tr>\n",
       "      <th>2</th>\n",
       "      <td>20201201</td>\n",
       "      <td>20201218</td>\n",
       "      <td>C</td>\n",
       "      <td>300000</td>\n",
       "      <td>3347.7</td>\n",
       "      <td>3370.6</td>\n",
       "      <td>E</td>\n",
       "    </tr>\n",
       "    <tr>\n",
       "      <th>3</th>\n",
       "      <td>20201201</td>\n",
       "      <td>20201218</td>\n",
       "      <td>C</td>\n",
       "      <td>400000</td>\n",
       "      <td>3247.7</td>\n",
       "      <td>3270.6</td>\n",
       "      <td>E</td>\n",
       "    </tr>\n",
       "    <tr>\n",
       "      <th>4</th>\n",
       "      <td>20201201</td>\n",
       "      <td>20201218</td>\n",
       "      <td>C</td>\n",
       "      <td>500000</td>\n",
       "      <td>3147.7</td>\n",
       "      <td>3170.6</td>\n",
       "      <td>E</td>\n",
       "    </tr>\n",
       "    <tr>\n",
       "      <th>...</th>\n",
       "      <td>...</td>\n",
       "      <td>...</td>\n",
       "      <td>...</td>\n",
       "      <td>...</td>\n",
       "      <td>...</td>\n",
       "      <td>...</td>\n",
       "      <td>...</td>\n",
       "    </tr>\n",
       "    <tr>\n",
       "      <th>2067</th>\n",
       "      <td>20201201</td>\n",
       "      <td>20210219</td>\n",
       "      <td>P</td>\n",
       "      <td>5000000</td>\n",
       "      <td>1333.1</td>\n",
       "      <td>1350.5</td>\n",
       "      <td>E</td>\n",
       "    </tr>\n",
       "    <tr>\n",
       "      <th>2068</th>\n",
       "      <td>20201201</td>\n",
       "      <td>20210219</td>\n",
       "      <td>P</td>\n",
       "      <td>5100000</td>\n",
       "      <td>1431.8</td>\n",
       "      <td>1454.7</td>\n",
       "      <td>E</td>\n",
       "    </tr>\n",
       "    <tr>\n",
       "      <th>2069</th>\n",
       "      <td>20201201</td>\n",
       "      <td>20210219</td>\n",
       "      <td>P</td>\n",
       "      <td>5200000</td>\n",
       "      <td>1531.7</td>\n",
       "      <td>1554.6</td>\n",
       "      <td>E</td>\n",
       "    </tr>\n",
       "    <tr>\n",
       "      <th>2070</th>\n",
       "      <td>20201201</td>\n",
       "      <td>20210219</td>\n",
       "      <td>P</td>\n",
       "      <td>5300000</td>\n",
       "      <td>1631.5</td>\n",
       "      <td>1654.4</td>\n",
       "      <td>E</td>\n",
       "    </tr>\n",
       "    <tr>\n",
       "      <th>2071</th>\n",
       "      <td>20201201</td>\n",
       "      <td>20210219</td>\n",
       "      <td>P</td>\n",
       "      <td>5400000</td>\n",
       "      <td>1731.4</td>\n",
       "      <td>1752.3</td>\n",
       "      <td>E</td>\n",
       "    </tr>\n",
       "  </tbody>\n",
       "</table>\n",
       "<p>2072 rows × 7 columns</p>\n",
       "</div>"
      ],
      "text/plain": [
       "          date    exdate cp_flag  strike_price  best_bid  best_offer  \\\n",
       "0     20201201  20201218       C        100000    3547.6      3570.5   \n",
       "1     20201201  20201218       C        200000    3447.6      3470.5   \n",
       "2     20201201  20201218       C        300000    3347.7      3370.6   \n",
       "3     20201201  20201218       C        400000    3247.7      3270.6   \n",
       "4     20201201  20201218       C        500000    3147.7      3170.6   \n",
       "...        ...       ...     ...           ...       ...         ...   \n",
       "2067  20201201  20210219       P       5000000    1333.1      1350.5   \n",
       "2068  20201201  20210219       P       5100000    1431.8      1454.7   \n",
       "2069  20201201  20210219       P       5200000    1531.7      1554.6   \n",
       "2070  20201201  20210219       P       5300000    1631.5      1654.4   \n",
       "2071  20201201  20210219       P       5400000    1731.4      1752.3   \n",
       "\n",
       "     exercise_style  \n",
       "0                 E  \n",
       "1                 E  \n",
       "2                 E  \n",
       "3                 E  \n",
       "4                 E  \n",
       "...             ...  \n",
       "2067              E  \n",
       "2068              E  \n",
       "2069              E  \n",
       "2070              E  \n",
       "2071              E  \n",
       "\n",
       "[2072 rows x 7 columns]"
      ]
     },
     "execution_count": 194,
     "metadata": {},
     "output_type": "execute_result"
    }
   ],
   "source": [
    "spx_df"
   ]
  },
  {
   "cell_type": "code",
   "execution_count": 198,
   "id": "4b79c87e-38a4-4ea5-9b61-fba4c3575cc7",
   "metadata": {},
   "outputs": [
    {
     "ename": "NameError",
     "evalue": "name 'spx1' is not defined",
     "output_type": "error",
     "traceback": [
      "\u001b[1;31m---------------------------------------------------------------------------\u001b[0m",
      "\u001b[1;31mNameError\u001b[0m                                 Traceback (most recent call last)",
      "Cell \u001b[1;32mIn[198], line 41\u001b[0m\n\u001b[0;32m     38\u001b[0m         \u001b[38;5;28;01mreturn\u001b[39;00m np\u001b[38;5;241m.\u001b[39mnan\n\u001b[0;32m     40\u001b[0m \u001b[38;5;66;03m# calculate_atm_volatility\u001b[39;00m\n\u001b[1;32m---> 41\u001b[0m sigma1 \u001b[38;5;241m=\u001b[39m calculate_atm_volatility(spx1, S, K, r1, T1)\n\u001b[0;32m     42\u001b[0m sigma2 \u001b[38;5;241m=\u001b[39m calculate_atm_volatility(spx2, S, K, r2, T2)\n\u001b[0;32m     43\u001b[0m sigma3 \u001b[38;5;241m=\u001b[39m calculate_atm_volatility(spx3, S, K, r3, T3)\n",
      "\u001b[1;31mNameError\u001b[0m: name 'spx1' is not defined"
     ]
    }
   ],
   "source": [
    "# Implied European Options Volatility Model\n",
    "def impliedCallVolatility(S, K, r, price, T):\n",
    "    try:\n",
    "        impliedVol = brentq(lambda x: price -\n",
    "                        BlackScholesCall(S, K, r, x, T),\n",
    "                        1e-6, 10)\n",
    "    except Exception:\n",
    "        impliedVol = np.nan\n",
    "    return impliedVol\n",
    "\n",
    "def impliedPutVolatility(S, K, r, price, T):\n",
    "    try:\n",
    "        impliedVol = brentq(lambda x: price -\n",
    "                        BlackScholesPut(S, K, r, x, T),\n",
    "                        1e-6, 10)\n",
    "    except Exception:\n",
    "        impliedVol = np.nan\n",
    "    return impliedVol\n",
    "\n",
    "def impliedVolatility(S, K, r, price, T, option_type):\n",
    "    try:\n",
    "        if option_type == 'C':\n",
    "            return brentq(lambda x: price - BlackScholesCall(S, K, r, x, T), 1e-12, 10)\n",
    "        else:\n",
    "            return brentq(lambda x: price - BlackScholesPut(S, K, r, x, T), 1e-12, 10)\n",
    "    except Exception:\n",
    "        return np.nan\n",
    "\n",
    "def calculate_atm_volatility(spx_data, S, K, r, T):\n",
    "    atm_call = spx_data[(spx_data['strike_price'] == K) & (spx_data['cp_flag'] == 'C')]\n",
    "    atm_put = spx_data[(spx_data['strike_price'] == K) & (spx_data['cp_flag'] == 'P')]\n",
    "\n",
    "    if not atm_call.empty and not atm_put.empty:\n",
    "        sigma_call = impliedVolatility(S, K, r, atm_call.iloc[0]['mid_price'], T, 'C')\n",
    "        sigma_put = impliedVolatility(S, K, r, atm_put.iloc[0]['mid_price'], T, 'P')\n",
    "        return (sigma_call + sigma_put) / 2\n",
    "    else:\n",
    "        return np.nan\n",
    "\n",
    "# calculate_atm_volatility\n",
    "sigma1 = calculate_atm_volatility(spx_df, S, K, r1, T1)\n",
    "sigma2 = calculate_atm_volatility(spy_df, S, K, r2, T2)\n",
    "sigma3 = calculate_atm_volatility(sp, S, K, r3, T3)\n",
    "\n",
    "sigma=[sigma1 ,sigma2 ,sigma3 ]\n",
    "sigma"
   ]
  },
  {
   "cell_type": "code",
   "execution_count": 127,
   "id": "d65f34c0-4fd7-473a-92f1-67471f44aeb8",
   "metadata": {},
   "outputs": [],
   "source": [
    "def black_scholes_price(S, K, r, sigma, T, option_type='call'):\n",
    "    d1 = (np.log(S / K) + (r + 0.5 * sigma**2) * T) / (sigma * np.sqrt(T))\n",
    "    d2 = d1 - sigma * np.sqrt(T)\n",
    "    if option_type == 'call':\n",
    "        return S * norm.cdf(d1) - K * np.exp(-r * T) * norm.cdf(d2)\n",
    "    elif option_type == 'put':\n",
    "        return K * np.exp(-r * T) * norm.cdf(-d2) - S * norm.cdf(-d1)"
   ]
  },
  {
   "cell_type": "code",
   "execution_count": 129,
   "id": "6acb2d3f-2a50-48c0-a126-77567e639427",
   "metadata": {},
   "outputs": [],
   "source": [
    "from scipy.optimize import brentq\n",
    "\n",
    "def impliedVolatility(S, K, r, price, T):\n",
    "    impliedVol = brentq(lambda x: price -\n",
    "                        black_scholes_price(S, K, r, x, T),\n",
    "                        1e-6, 5)\n",
    "\n",
    "    return impliedVol"
   ]
  },
  {
   "cell_type": "code",
   "execution_count": 133,
   "id": "8575b7b1-5be8-4dda-8c5d-916b0778616a",
   "metadata": {},
   "outputs": [],
   "source": [
    "import numpy as np\n",
    "\n",
    "def Black_Scholes_price(S, rate, sigma, T):\n",
    "    # Term 1: S^(1/3) * exp(rT/3) * exp(-sigma^2T/9)\n",
    "    term1 = np.power(S, 1.0 / 3.0) * np.exp((rate - 0.5 * sigma**2) * T * (1.0 / 3.0)) * np.exp(0.5 * (1.0 / 9.0) * T * sigma**2)\n",
    "    \n",
    "    # Term 2: 1.5 * (log(S) + (rate - 0.5 * sigma^2) * T)\n",
    "    term2 = 1.5 * (np.log(S) + (rate - 0.5 * sigma**2) * T)\n",
    "    \n",
    "    # Term 3: Constant value (10)\n",
    "    term3 = 10\n",
    "    \n",
    "    # Combine all terms and discount to present value\n",
    "    return np.exp(-rate * T) * (term1 + term2 + term3)\n"
   ]
  },
  {
   "cell_type": "markdown",
   "id": "cccd6ea5-7bf8-4786-ad7c-df1af3f0c64f",
   "metadata": {},
   "source": [
    "### 2.Bachelier model:"
   ]
  },
  {
   "cell_type": "markdown",
   "id": "48cd4cea-a241-4372-8758-4bfc8b43688c",
   "metadata": {},
   "source": [
    "$$S_T = S_0 + \\sigma W_T$$"
   ]
  },
  {
   "cell_type": "markdown",
   "id": "9e5b5c14-4cbb-43d1-b094-75bcf2a8080c",
   "metadata": {},
   "source": [
    ">the expected value of this payoff"
   ]
  },
  {
   "cell_type": "markdown",
   "id": "9dba43df-8f52-49cb-a572-76e96ab40318",
   "metadata": {},
   "source": [
    "$$\n",
    "E[V_T] = \\frac{1}{\\sqrt{2\\pi}}\\int_{-\\infty}^{\\infty} (S_0 + \\sigma S_0 \\sqrt{T} x)^\\frac{1}{3} e^\\frac{-x^2}{2}\\,dx +\n",
    "\\frac{1}{\\sqrt{2\\pi}}\\int_{-\\infty}^{\\infty} 1.5log(S_0 + \\sigma S_0 \\sqrt{T} x) e^\\frac{-x^2}{2}\\,dx\n",
    "+10\n",
    "$$"
   ]
  },
  {
   "cell_type": "markdown",
   "id": "11878e87-8ffb-4cd8-9849-aa8ce1c88b40",
   "metadata": {},
   "source": [
    ">the price:"
   ]
  },
  {
   "cell_type": "markdown",
   "id": "fdeffcfb-29a8-43cc-8e46-643565830cda",
   "metadata": {},
   "source": [
    "$$\n",
    "V_0 = e^{-rT}E[V_T]\n",
    "$$"
   ]
  },
  {
   "cell_type": "code",
   "execution_count": 87,
   "id": "e43e9060-53a9-4a41-b5b0-927edecb9c60",
   "metadata": {},
   "outputs": [],
   "source": [
    "import numpy as np\n",
    "from scipy.integrate import quad"
   ]
  },
  {
   "cell_type": "code",
   "execution_count": 89,
   "id": "3425b411-ea08-417c-ba70-11f6aa06d551",
   "metadata": {},
   "outputs": [],
   "source": [
    "def integrand_1(x, S0, sigma, T):\n",
    "    \"\"\"\n",
    "    第一部分积分的被积函数:\n",
    "    (S_0 + sigma * S_0 * sqrt(T) * x)^(1/3) * exp(-x^2 / 2)\n",
    "    \"\"\"\n",
    "    return (\n",
    "        (S0 + sigma * S0 * np.sqrt(T) * x)**(1/3) \n",
    "        * np.exp(-0.5 * x**2)\n",
    "    )\n",
    "\n",
    "def integrand_2(x, S0, sigma, T):\n",
    "    \"\"\"\n",
    "    第二部分积分的被积函数:\n",
    "    1.5 * log(S_0 + sigma * S_0 * sqrt(T) * x) * exp(-x^2 / 2)\n",
    "    \"\"\"\n",
    "    # 确保 log 中的值大于 0\n",
    "    if S0 + sigma * S0 * np.sqrt(T) * x > 0:\n",
    "        return (\n",
    "            1.5 * np.log(S0 + sigma * S0 * np.sqrt(T) * x) \n",
    "            * np.exp(-0.5 * x**2)\n",
    "        )\n",
    "    else:\n",
    "        return 0  # 如果 log 的输入为负，则返回 0\n",
    "\n",
    "def exotic_price(S0, rate, sigma, T):\n",
    "    \"\"\"\n",
    "    使用积分计算 E[V_T] 并返回折现现值\n",
    "    \"\"\"\n",
    "    # 标准正态分布的权重\n",
    "    normalization = 1 / np.sqrt(2 * np.pi)\n",
    "    \n",
    "    # 计算第一个积分\n",
    "    I1, _ = quad(\n",
    "        lambda x: integrand_1(x, S0, sigma, T),\n",
    "        -np.inf, np.inf\n",
    "    )\n",
    "    \n",
    "    # 计算第二个积分\n",
    "    I2, _ = quad(\n",
    "        lambda x: integrand_2(x, S0, sigma, T),\n",
    "        -np.inf, np.inf\n",
    "    )\n",
    "    \n",
    "    # 计算期望值 E[V_T]\n",
    "    EV_T = normalization * (I1 + I2 + 10)\n",
    "    \n",
    "    # 折现到现值\n",
    "    V0 = np.exp(-rate * T) * EV_T\n",
    "    \n",
    "    return V0"
   ]
  },
  {
   "cell_type": "markdown",
   "id": "c8906687-fa2e-4851-96c6-8374cc608563",
   "metadata": {},
   "source": [
    "### 3. SABR&Static Replication"
   ]
  },
  {
   "cell_type": "markdown",
   "id": "a3127760-e2e9-4fc9-9831-e82180964ffe",
   "metadata": {},
   "source": [
    ">The static replication price of the exotic payoff is given by:"
   ]
  },
  {
   "cell_type": "markdown",
   "id": "2cac7ed3-d9a1-4c26-a12b-0fe23deebf1e",
   "metadata": {},
   "source": [
    "$$\n",
    "\\text{Price} = e^{-rT} \\cdot h(F) + \\int_0^F \\phi(K) P(F, K) \\, dK + \\int_F^\\infty \\phi(K) C(F, K) \\, dK\n",
    "$$"
   ]
  },
  {
   "cell_type": "markdown",
   "id": "60f56fb7-c0cc-4739-bdef-0d62286dcd45",
   "metadata": {},
   "source": [
    ">Forward Price"
   ]
  },
  {
   "cell_type": "markdown",
   "id": "f35424d2-1066-4075-a9d6-9bb980b68e9c",
   "metadata": {},
   "source": [
    "$$\n",
    "   F = S \\cdot e^{rT}\n",
    "$$\n",
    "   where \\( S \\) is the current spot price, \\( r \\) is the risk-free rate, and \\( T \\) is the time to expiry."
   ]
  },
  {
   "cell_type": "markdown",
   "id": "d2558d2a-6900-47bf-9216-95ae07fd4d7d",
   "metadata": {},
   "source": [
    ">Exotic Payoff at Forward Price"
   ]
  },
  {
   "cell_type": "markdown",
   "id": "bd65e6e0-fc2b-4e59-8089-04181333a076",
   "metadata": {},
   "source": [
    "$$\n",
    "h(F) = F^{1/3} + 1.5 \\cdot \\log(F) + 10\n",
    "$$"
   ]
  },
  {
   "cell_type": "markdown",
   "id": "f86be64b-7d59-4c19-930d-916029245b68",
   "metadata": {},
   "source": [
    ">Weight Function"
   ]
  },
  {
   "cell_type": "markdown",
   "id": "bbf443cb-fc4a-455d-84a0-083f3b1b19b5",
   "metadata": {},
   "source": [
    "$$\n",
    "   \\phi(K) = -\\frac{2}{9} K^{-5/3} - \\frac{1.5}{K^2}\n",
    "$$"
   ]
  },
  {
   "cell_type": "code",
   "execution_count": 111,
   "id": "d90b12a8-a618-4247-b778-dc51ec35e6ac",
   "metadata": {},
   "outputs": [],
   "source": [
    "import numpy as np\n",
    "from scipy.stats import norm\n",
    "from scipy.integrate import quad"
   ]
  },
  {
   "cell_type": "markdown",
   "id": "1c32ed30-7fa3-478a-97ef-7c47e43ecd50",
   "metadata": {},
   "source": [
    ">ATM "
   ]
  },
  {
   "cell_type": "markdown",
   "id": "805f1829-6707-4c12-ba39-ff3bcb13abc8",
   "metadata": {},
   "source": [
    "$$\n",
    "\\sigma_{\\text{imp}} = \\frac{\\alpha}{F^{1-\\beta}} \\left[1 + \\left(\\frac{(1-\\beta)^2}{24} \\cdot \\frac{\\alpha^2}{F^{2-2\\beta}} + \n",
    "0.25 \\cdot \\rho \\cdot \\beta \\cdot \\nu \\cdot \\frac{\\alpha}{F^{1-\\beta}} + \n",
    "\\frac{(2-3\\rho^2)}{24} \\cdot \\nu^2\\right) T \\right]\n",
    "$$"
   ]
  },
  {
   "cell_type": "markdown",
   "id": "e14c5cd0-8696-4843-93f4-53bb6abbe73f",
   "metadata": {},
   "source": [
    ">NOT ATM "
   ]
  },
  {
   "cell_type": "markdown",
   "id": "0c51c1a8-0c6b-4f28-bd8b-7d6b1d7da133",
   "metadata": {},
   "source": [
    "$$\n",
    "\\text{numer} =\n",
    "\\alpha \\cdot \\left[1 + \\left(\\frac{(1-\\beta)^2}{24} \\cdot \\frac{\\alpha^2}{(F K)^{1-\\beta}} +\n",
    "0.25 \\cdot \\rho \\cdot \\beta \\cdot \\nu \\cdot \\frac{\\alpha}{(F K)^{(1-\\beta)/2}} +\n",
    "\\frac{(2-3\\rho^2)}{24} \\cdot \\nu^2\\right) T \\right] \\cdot z\n",
    "$$"
   ]
  },
  {
   "cell_type": "markdown",
   "id": "aae853cf-674a-4203-93d7-6cf8aef055e4",
   "metadata": {},
   "source": [
    "where"
   ]
  },
  {
   "cell_type": "markdown",
   "id": "c86cbfa8-8023-4f79-970e-be05730e9bde",
   "metadata": {},
   "source": [
    "$$\n",
    "z = \\frac{\\nu}{\\alpha} \\cdot (F K)^{\\frac{1 - \\beta}{2}} \\cdot \\ln\\left(\\frac{F}{K}\\right)\n",
    "$$"
   ]
  },
  {
   "cell_type": "markdown",
   "id": "9ff0b393-1e24-44c9-85ad-556908fa9635",
   "metadata": {},
   "source": [
    "and"
   ]
  },
  {
   "cell_type": "markdown",
   "id": "b7518173-64eb-4c59-90d1-ce6c75aa30bd",
   "metadata": {},
   "source": [
    "$$\n",
    "\\chi = \\ln\\left(\\frac{\\sqrt{1 - 2\\rho z + z^2} + z - \\rho}{1 - \\rho}\\right)\n",
    "$$"
   ]
  },
  {
   "cell_type": "markdown",
   "id": "a234baec-2edf-4a02-8384-adb0bc6b386d",
   "metadata": {},
   "source": [
    "$$\n",
    "\\text{denom} = (F K)^{\\frac{1-\\beta}{2}} \\cdot \\left[1 + \\frac{(1-\\beta)^2}{24} \\cdot (\\ln(F/K))^2 + \n",
    "\\frac{(1-\\beta)^4}{1920} \\cdot (\\ln(F/K))^4\\right] \\cdot \\chi\n",
    "$$"
   ]
  },
  {
   "cell_type": "markdown",
   "id": "c20edf85-32db-4e62-bc16-0e3dcba168da",
   "metadata": {},
   "source": [
    "$$\n",
    "\\sigma_{\\text{imp}} = \\frac{\\text{numer}}{\\text{denom}}\n",
    "$$"
   ]
  },
  {
   "cell_type": "code",
   "execution_count": 250,
   "id": "015625ee-8be1-4f5f-ad12-44fcd00b0206",
   "metadata": {},
   "outputs": [
    {
     "name": "stdout",
     "output_type": "stream",
     "text": [
      "SPX Static Replication Price: 37.669990999\n",
      "SPY Static Replication Price: 25.972922929\n"
     ]
    }
   ],
   "source": [
    "# SABR implied volatility function\n",
    "def sabr_volatility(F, K, T, alpha, beta, rho, nu):\n",
    "    if np.isclose(F, K):  # Handle ATM case\n",
    "        numer1 = ((1 - beta) ** 2 / 24) * (alpha ** 2) / (F ** (2 - 2 * beta))\n",
    "        numer2 = 0.25 * rho * beta * nu * alpha / (F ** (1 - beta))\n",
    "        numer3 = ((2 - 3 * rho ** 2) / 24) * nu ** 2\n",
    "        return alpha * (1 + (numer1 + numer2 + numer3) * T) / (F ** (1 - beta))\n",
    "    else:\n",
    "        z = (nu / alpha) * ((F * K) ** ((1 - beta) / 2)) * np.log(F / K)\n",
    "        chi = np.log((np.sqrt(1 - 2 * rho * z + z ** 2) + z - rho) / (1 - rho))\n",
    "        numer = alpha * (1 + (((1 - beta) ** 2 / 24) * (alpha ** 2) / ((F * K) ** (1 - beta)) +\n",
    "                              0.25 * rho * beta * nu * alpha / ((F * K) ** ((1 - beta) / 2)) +\n",
    "                              ((2 - 3 * rho ** 2) / 24) * nu ** 2) * T) * z\n",
    "        denom = ((F * K) ** ((1 - beta) / 2)) * (1 + (1 - beta) ** 2 / 24 * (np.log(F / K)) ** 2 +\n",
    "                                                 (1 - beta) ** 4 / 1920 * (np.log(F / K)) ** 4) * chi\n",
    "        return numer / denom\n",
    "\n",
    "\n",
    "# Black-Scholes call and put pricing\n",
    "def black_scholes_call(S, K, r, sigma, T):\n",
    "    d1 = (np.log(S / K) + (r + 0.5 * sigma ** 2) * T) / (sigma * np.sqrt(T))\n",
    "    d2 = d1 - sigma * np.sqrt(T)\n",
    "    return S * norm.cdf(d1) - K * np.exp(-r * T) * norm.cdf(d2)\n",
    "\n",
    "\n",
    "def black_scholes_put(S, K, r, sigma, T):\n",
    "    d1 = (np.log(S / K) + (r + 0.5 * sigma ** 2) * T) / (sigma * np.sqrt(T))\n",
    "    d2 = d1 - sigma * np.sqrt(T)\n",
    "    return K * np.exp(-r * T) * norm.cdf(-d2) - S * norm.cdf(-d1)\n",
    "\n",
    "\n",
    "# SABR-based call and put pricing\n",
    "def sabr_call_price(S, K, r, T, alpha, beta, rho, nu):\n",
    "    fwd = S * np.exp(r * T)\n",
    "    sigma = sabr_volatility(fwd, K, T, alpha, beta, rho, nu)\n",
    "    return black_scholes_call(S, K, r, sigma, T)\n",
    "\n",
    "\n",
    "def sabr_put_price(S, K, r, T, alpha, beta, rho, nu):\n",
    "    fwd = S * np.exp(r * T)\n",
    "    sigma = sabr_volatility(fwd, K, T, alpha, beta, rho, nu)\n",
    "    return black_scholes_put(S, K, r, sigma, T)\n",
    "\n",
    "\n",
    "# Integration for static replication\n",
    "def sabr_call_integrand(K, S, r, T, alpha, beta, rho, nu):\n",
    "    weight = (-2 / 9) * K ** (-5 / 3) - 1.5 / K ** 2\n",
    "    return sabr_call_price(S, K, r, T, alpha, beta, rho, nu) * weight\n",
    "\n",
    "\n",
    "def sabr_put_integrand(K, S, r, T, alpha, beta, rho, nu):\n",
    "    weight = (-2 / 9) * K ** (-5 / 3) - 1.5 / K ** 2\n",
    "    return sabr_put_price(S, K, r, T, alpha, beta, rho, nu) * weight\n",
    "\n",
    "\n",
    "# Static replication price calculation\n",
    "def static_replication_price(S, r, T, alpha, beta, rho, nu, integration_limits):\n",
    "    fwd_price = S * np.exp(r * T)\n",
    "    h_F = (fwd_price ** (1 / 3)) + 1.5 * np.log(fwd_price) + 10\n",
    "\n",
    "    put_integral = quad(lambda K: sabr_put_integrand(K, S, r, T, alpha, beta, rho, nu), integration_limits[0], fwd_price)[0]\n",
    "    call_integral = quad(lambda K: sabr_call_integrand(K, S, r, T, alpha, beta, rho, nu), fwd_price, integration_limits[1])[0]\n",
    "\n",
    "    return np.exp(-r * T) * h_F + put_integral + call_integral\n",
    "\n",
    "\n",
    "# parameters\n",
    "spx_params = {\"alpha\": 1.81600099, \"beta\": 0.7, \"rho\": -0.40141522, \"nu\": 2.79103083}\n",
    "spy_params = {\"alpha\": 0.90783421, \"beta\": 0.7, \"rho\": -0.48729513, \"nu\": 2.72885668}\n",
    "S1 = 3662.45\n",
    "r = 0.01  \n",
    "T = 45/365 \n",
    "integration_limits = (1e-6, 5000)\n",
    "S2 =366.20\n",
    "# Calculate static replication prices\n",
    "spx_price = static_replication_price(S1, r, T, **spx_params, integration_limits=integration_limits)\n",
    "spy_price = static_replication_price(S2, r, T, **spy_params, integration_limits=integration_limits)\n",
    "\n",
    "print(f\"SPX Static Replication Price: {spx_price:.9f}\")\n",
    "print(f\"SPY Static Replication Price: {spy_price:.9f}\")"
   ]
  },
  {
   "cell_type": "code",
   "execution_count": 265,
   "id": "3ac75dac-c751-49f7-b422-f31cef8d4ebe",
   "metadata": {},
   "outputs": [],
   "source": [
    "K=3660"
   ]
  },
  {
   "cell_type": "code",
   "execution_count": 266,
   "id": "88214470-5931-470a-a252-a490364da394",
   "metadata": {},
   "outputs": [
    {
     "data": {
      "text/plain": [
       "-3.676309209604326e-07"
      ]
     },
     "execution_count": 266,
     "metadata": {},
     "output_type": "execute_result"
    }
   ],
   "source": [
    "weight = (-2 / 9) * K ** (-5 / 3) - 1.5 / K ** 2\n",
    "weight"
   ]
  },
  {
   "cell_type": "code",
   "execution_count": null,
   "id": "18498709-009b-46a6-bd5d-53bcf0278797",
   "metadata": {},
   "outputs": [],
   "source": []
  },
  {
   "cell_type": "markdown",
   "id": "133758a2-fc17-45cb-a078-65f5dbeb3170",
   "metadata": {},
   "source": [
    "### \"Model_free\" integrated variance:"
   ]
  },
  {
   "cell_type": "markdown",
   "id": "78931b5a-0143-48b5-b0c4-52b6eaaa32d9",
   "metadata": {},
   "source": [
    "$$\n",
    "\\sigma_{\\text{MF}}^2 T = \\mathbb{E} \\left[ \\int_0^T \\sigma_t^2 \\, dt \\right]\n",
    "$$"
   ]
  },
  {
   "cell_type": "markdown",
   "id": "8124ca8e-9ef2-4427-ba9f-64649f6dfaf4",
   "metadata": {},
   "source": [
    "Since 𝜎 is constant under Black-Scholes:"
   ]
  },
  {
   "cell_type": "markdown",
   "id": "14128fa5-4b38-4428-b772-a1da8d638be7",
   "metadata": {},
   "source": [
    "$$\n",
    "\\sigma_{\\text{MF}}^2 T = \\sigma^2 T\n",
    "$$"
   ]
  },
  {
   "cell_type": "markdown",
   "id": "d3168431-5550-46e8-a9b1-c2f59a8f4d81",
   "metadata": {},
   "source": [
    "So, integrated variance is simply:"
   ]
  },
  {
   "cell_type": "markdown",
   "id": "0125143a-4bbd-44cf-a182-a4138a40c5ba",
   "metadata": {},
   "source": [
    "$$\n",
    "\\sigma_{\\text{MF}}^2 = \\sigma^2\n",
    "$$"
   ]
  },
  {
   "cell_type": "markdown",
   "id": "aa72b69a-40bf-4ccd-a597-a542595514e4",
   "metadata": {},
   "source": [
    "$$\n",
    "E\\Biggl[\\int_{0}^{T} \\sigma_t^2 \\,dt\\Biggr] = 2e^{rT}\\Biggl(\\int_{0}^{F} \\frac{P(K)}{K^2} \\,dK + \\int_{F}^{\\infty} \\frac{C(K)}{K^2} \\,dK\\Biggr)\n",
    "$$"
   ]
  },
  {
   "cell_type": "code",
   "execution_count": 253,
   "id": "794d873f-c772-419e-8e5f-45e3839f8a04",
   "metadata": {},
   "outputs": [],
   "source": [
    "from scipy.integrate import quad\n",
    "from scipy.stats import norm\n",
    "import numpy as np"
   ]
  },
  {
   "cell_type": "code",
   "execution_count": null,
   "id": "90788f5f-aab9-40b9-b93e-92e71941ffab",
   "metadata": {},
   "outputs": [],
   "source": [
    "T = (expiry - start).days/365\n",
    "spx_S = 3662.45\n",
    "spy_S = 366.02\n",
    "r = 0.01\n",
    "spx_K = 3660\n",
    "spy_K = 366"
   ]
  },
  {
   "cell_type": "code",
   "execution_count": 255,
   "id": "53c32978-bf6d-4f44-b2eb-ac47dd58c8b2",
   "metadata": {},
   "outputs": [
    {
     "name": "stdout",
     "output_type": "stream",
     "text": [
      "The Bachelier expected integrated variance for SPX is: 0.000000000\n",
      "The Bachelier expected integrated variance for SPY is: 0.000001553\n"
     ]
    }
   ],
   "source": [
    "# Bachelier Model Integrated Variance Function\n",
    "def Bach_callintegrand(K, S, r, T, sigma):\n",
    "    price = BachelierCall(S, K, r, sigma, T) / K**2\n",
    "    return price\n",
    "\n",
    "def Bach_putintegrand(K, S, r, T, sigma):\n",
    "    price = BachelierPut(S, K, r, sigma, T) / K**2\n",
    "    return price\n",
    "\n",
    "\n",
    "spx_F = spx_S * np.exp(r * T)\n",
    "spx_I_put = quad(lambda x: Bach_putintegrand(x, spx_S, r, T, bach_spx_sigma), 0.0, spx_F)\n",
    "spx_I_call = quad(lambda x: Bach_callintegrand(x, spx_S, r, T, bach_spx_sigma), spx_F, 5000)\n",
    "spx_Bach_E_var = 2 * np.exp(r * T) * (spx_I_put[0] + spx_I_call[0])\n",
    "print('The Bachelier expected integrated variance for SPX is: %.9f' % spx_Bach_E_var)\n",
    "\n",
    "\n",
    "spy_F = spy_S * np.exp(r * T)\n",
    "spy_I_put = quad(lambda x: Bach_putintegrand(x, spy_S, r, T, bach_spy_sigma), 0.0, spy_F)\n",
    "spy_I_call = quad(lambda x: Bach_callintegrand(x, spy_S, r, T, bach_spy_sigma), spy_F, 5000)\n",
    "spy_Bach_E_var = 2 * np.exp(r * T) * (spy_I_put[0] + spy_I_call[0])\n",
    "print('The Bachelier expected integrated variance for SPY is: %.9f' % spy_Bach_E_var)"
   ]
  },
  {
   "cell_type": "code",
   "execution_count": null,
   "id": "1c14116d-b701-4d4e-a2e3-00a3acaf1689",
   "metadata": {},
   "outputs": [],
   "source": [
    "def SABRCall(S, K, r, alpha, beta, rho, nu, T):\n",
    "    sabr_vol = SABR(S * np.exp(r * T), K, T, alpha, beta, rho, nu)\n",
    "    return BlackScholesCall(S, K, r, sabr_vol, T)\n",
    "\n",
    "\n",
    "def SABRPut(S, K, r, alpha, beta, rho, nu, T):\n",
    "    sabr_vol = SABR(S * np.exp(r * T), K, T, alpha, beta, rho, nu)\n",
    "    return BlackScholesPut(S, K, r, sabr_vol, T)\n",
    "\n",
    "\n",
    "def sabrcallintegrand(K, S, r, T, alpha, beta, rho, nu):\n",
    "    price = SABRCall(S, K, r, alpha, beta, rho, nu, T) * ((- 2 / 9) * K ** (-5 / 3) - 1.5 / (K ** 2))\n",
    "    return price\n",
    "\n",
    "\n",
    "def sabrputintegrand(K, S, r, T, alpha, beta, rho, nu):\n",
    "    price = SABRPut(S, K, r, alpha, beta, rho, nu, T) * ((- 2 / 9) * K ** (-5 / 3) - 1.5 / (K ** 2))\n",
    "    return price\n",
    "\n",
    "\n",
    "#S = 3662.45\n",
    "#r = interpolated(T * 365) / 100\n",
    "#T = (expiry - start).days / 365\n",
    "spx_alpha = 1.81600099\n",
    "beta = 0.7\n",
    "spx_rho = -0.40141522\n",
    "spx_nu = 2.79103083\n",
    "\n",
    "spy_alpha = 0.90783421\n",
    "spy_rho = -0.48729513\n",
    "spy_nu = 2.72885668\n",
    "\n",
    "spx_F = spx_S * np.exp(r * T)\n",
    "spy_F = spy_S * np.exp(r * T)\n",
    "\n",
    "spx_hF = ((spx_S ** (1/3) * np.exp((1/3) * r * T)) + 1.5 * np.log(spx_S * np.exp(r * T)) + 10.0)\n",
    "spy_hF = ((spy_S ** (1/3) * np.exp((1/3) * r * T)) + 1.5 * np.log(spy_S * np.exp(r * T)) + 10.0)\n",
    "\n",
    "spx_I_put = quad(lambda x: sabrputintegrand(x, spx_S, r, T, spx_alpha, beta, spx_rho, spx_nu), 1e-6, spx_F)\n",
    "spx_I_call = quad(lambda x: sabrcallintegrand(x, spx_S, r, T, spx_alpha, beta, spx_rho, spx_nu), spx_F, 5000)\n",
    "spx_static_replication_price = np.exp(-r * T) * spx_hF + (spx_I_put[0] + spx_I_call[0])\n",
    "\n",
    "spy_I_put = quad(lambda x: sabrputintegrand(x, spy_S, r, T, spy_alpha, beta, spy_rho, spy_nu), 1e-6, spy_F)\n",
    "spy_I_call = quad(lambda x: sabrcallintegrand(x, spy_S, r, T, spy_alpha, beta, spy_rho, spy_nu), spy_F, 5000)\n",
    "spy_static_replication_price = np.exp(-r * T) * spy_hF + (spy_I_put[0] + spy_I_call[0])\n",
    "\n",
    "print('SPX Static Replication Price: %.9f' % spx_static_replication_price)\n",
    "print('SPY Static Replication Price: %.9f' % spy_static_replication_price)"
   ]
  },
  {
   "cell_type": "code",
   "execution_count": 261,
   "id": "1ed809ff-ba09-40a3-8974-091575732456",
   "metadata": {},
   "outputs": [
    {
     "name": "stdout",
     "output_type": "stream",
     "text": [
      "The static replication expected integrated variance for SPX is: -0.029715832\n",
      "The static replication expected integrated variance for SPY is: -0.017980583\n"
     ]
    }
   ],
   "source": [
    "spx_alpha = 1.81600099\n",
    "beta = 0.7\n",
    "spx_rho = -0.40141522\n",
    "spx_nu = 2.79103083\n",
    "\n",
    "spy_alpha = 0.90783421\n",
    "spy_rho = -0.48729513\n",
    "spy_nu = 2.72885668\n",
    "\n",
    "spx_F = spx_S * np.exp(r * T)\n",
    "spx_I_put = quad(lambda x: sabr_put_integrand(x, spx_S, r, T, spx_alpha, beta, spx_rho, spx_nu), 1e-6, spx_F)\n",
    "spx_I_call = quad(lambda x: sabr_call_integrand(x, spx_S, r, T, spx_alpha, beta, spx_rho, spx_nu), spx_F, 5000)\n",
    "spx_E_var = 2 * np.exp(r * T) * (spx_I_put[0] + spx_I_call[0])\n",
    "print('The static replication expected integrated variance for SPX is: %.9f' % spx_E_var)\n",
    "\n",
    "spy_F = spy_S * np.exp(r * T)\n",
    "spy_I_put = quad(lambda x: sabr_put_integrand(x, spy_S, r, T, spy_alpha, beta, spy_rho, spy_nu), 1e-6, spy_F)\n",
    "spy_I_call = quad(lambda x: sabr_call_integrand(x, spy_S, r, T, spy_alpha, beta, spy_rho, spy_nu), spy_F, 5000)\n",
    "spy_E_var = 2 * np.exp(r * T) * (spy_I_put[0] + spy_I_call[0])\n",
    "print('The static replication expected integrated variance for SPY is: %.9f' % spy_E_var)"
   ]
  },
  {
   "cell_type": "code",
   "execution_count": null,
   "id": "72ceddf4-f386-405c-bfca-341cfa06270d",
   "metadata": {},
   "outputs": [],
   "source": [
    "spx_F = spx_S * np.exp(r * T)\n",
    "spx_I_put = quad(lambda x: sabrputintegrand(x, spx_S, r, T, spx_alpha, beta, spx_rho, spx_nu), 1e-6, spx_F)\n",
    "spx_I_call = quad(lambda x: sabrcallintegrand(x, spx_S, r, T, spx_alpha, beta, spx_rho, spx_nu), spx_F, 5000)\n",
    "spx_E_var = 2 * np.exp(r * T) * (spx_I_put[0] + spx_I_call[0])\n",
    "print('The static replication expected integrated variance for SPX is: %.9f' % spx_E_var)\n",
    "\n",
    "spy_F = spy_S * np.exp(r * T)\n",
    "spy_I_put = quad(lambda x: sabrputintegrand(x, spy_S, r, T, spy_alpha, beta, spy_rho, spy_nu), 1e-6, spy_F)\n",
    "spy_I_call = quad(lambda x: sabrcallintegrand(x, spy_S, r, T, spy_alpha, beta, spy_rho, spy_nu), spy_F, 5000)\n",
    "spy_E_var = 2 * np.exp(r * T) * (spy_I_put[0] + spy_I_call[0])\n",
    "print('The static replication expected integrated variance for SPY is: %.9f' % spy_E_var)"
   ]
  },
  {
   "cell_type": "code",
   "execution_count": 269,
   "id": "e8f09537-617a-4938-a646-f31fdbf6ff3d",
   "metadata": {},
   "outputs": [
    {
     "name": "stdout",
     "output_type": "stream",
     "text": [
      "-0.029715832436617892\n",
      "-0.017976458627835555\n"
     ]
    }
   ],
   "source": [
    "def static_replication_price2(S, r, T, alpha, beta, rho, nu, integration_limits):\n",
    "    fwd_price = S * np.exp(r * T)\n",
    "    h_F = (fwd_price ** (1 / 3)) + 1.5 * np.log(fwd_price) + 10\n",
    "\n",
    "    put_integral = quad(lambda K: sabr_put_integrand(K, S, r, T, alpha, beta, rho, nu), integration_limits[0], fwd_price)[0]\n",
    "    call_integral = quad(lambda K: sabr_call_integrand(K, S, r, T, alpha, beta, rho, nu), fwd_price, integration_limits[1])[0]\n",
    "\n",
    "    return 2 * np.exp(r * T) *(put_integral + call_integral)\n",
    "\n",
    "\n",
    "# parameters\n",
    "spx_params = {\"alpha\": 1.81600099, \"beta\": 0.7, \"rho\": -0.40141522, \"nu\": 2.79103083}\n",
    "spy_params = {\"alpha\": 0.90783421, \"beta\": 0.7, \"rho\": -0.48729513, \"nu\": 2.72885668}\n",
    "S1 = 3662.45\n",
    "r = 0.01  \n",
    "T = 45/365 \n",
    "integration_limits = (1e-6, 5000)\n",
    "S2 =366.20\n",
    "# Calculate static replication prices\n",
    "spx_price2 = static_replication_price2(S1, r, T, **spx_params, integration_limits=integration_limits)\n",
    "spy_price2 = static_replication_price2(S2, r, T, **spy_params, integration_limits=integration_limits)\n",
    "\n",
    "print(spx_price2)\n",
    "print(spy_price2)"
   ]
  },
  {
   "cell_type": "code",
   "execution_count": null,
   "id": "9afa72f3-9d91-4dc0-ae82-c315275c2585",
   "metadata": {},
   "outputs": [],
   "source": []
  }
 ],
 "metadata": {
  "kernelspec": {
   "display_name": "Python 3 (ipykernel)",
   "language": "python",
   "name": "python3"
  },
  "language_info": {
   "codemirror_mode": {
    "name": "ipython",
    "version": 3
   },
   "file_extension": ".py",
   "mimetype": "text/x-python",
   "name": "python",
   "nbconvert_exporter": "python",
   "pygments_lexer": "ipython3",
   "version": "3.12.4"
  }
 },
 "nbformat": 4,
 "nbformat_minor": 5
}
