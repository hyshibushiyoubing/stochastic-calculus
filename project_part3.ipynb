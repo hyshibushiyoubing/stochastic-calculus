{
 "cells": [
  {
   "cell_type": "markdown",
   "metadata": {},
   "source": [
    "# Part III (Static Replication)"
   ]
  },
  {
   "cell_type": "markdown",
   "metadata": {},
   "source": [
    "## 1. PRICE"
   ]
  },
  {
   "cell_type": "markdown",
   "metadata": {},
   "source": [
    "> payoff function"
   ]
  },
  {
   "cell_type": "markdown",
   "metadata": {},
   "source": [
    "$$\n",
    "payoff = S_T^{1/3} + 1.5 \\times \\log(S_T) + 10.0\n",
    "$$"
   ]
  },
  {
   "cell_type": "markdown",
   "metadata": {},
   "source": [
    ">the price"
   ]
  },
  {
   "cell_type": "markdown",
   "metadata": {},
   "source": [
    "$$\n",
    "V_0 = e^{-rT}E[V_T]\n",
    "$$"
   ]
  },
  {
   "cell_type": "code",
   "execution_count": 90,
   "metadata": {},
   "outputs": [],
   "source": [
    "import numpy as np\n",
    "import pandas as pd\n",
    "import matplotlib.pylab as plt\n",
    "import seaborn as sns\n",
    "import datetime as dt\n",
    "import array\n",
    "from scipy.stats import norm\n",
    "from scipy.optimize import brentq,fsolve\n",
    "from scipy import interpolate\n",
    "from scipy.optimize import least_squares"
   ]
  },
  {
   "cell_type": "markdown",
   "metadata": {},
   "source": [
    "### calculate sigma"
   ]
  },
  {
   "cell_type": "code",
   "execution_count": 92,
   "metadata": {},
   "outputs": [],
   "source": [
    "spx_df = pd.read_csv('SPX_options.csv')\n",
    "rate_df = pd.read_csv('zero_rates_20201201.csv')\n",
    "spx_df['strike_price'] = spx_df['strike_price']/1000\n",
    "spx_df['mid_price'] = (spx_df['best_bid'] + spx_df['best_offer'])/2"
   ]
  },
  {
   "cell_type": "code",
   "execution_count": 94,
   "metadata": {},
   "outputs": [],
   "source": [
    "# Black-Scholes Model\n",
    "def BlackScholesCall(S, K, r, sigma, T):\n",
    "    d1 = (np.log(S/K)+(r+sigma**2/2)*T) / (sigma*np.sqrt(T))\n",
    "    d2 = d1 - sigma*np.sqrt(T)\n",
    "    return S*norm.cdf(d1) - K*np.exp(-r*T)*norm.cdf(d2)\n",
    "\n",
    "def BlackScholesPut(S, K, r, sigma, T):\n",
    "    d1 = (np.log(S/K)+(r+sigma**2/2)*T) / (sigma*np.sqrt(T))\n",
    "    d2 = d1 - sigma*np.sqrt(T)\n",
    "    return K*np.exp(-r*T)*norm.cdf(-d2) - S*norm.cdf(-d1)\n",
    "\n",
    "# Bachelier Model\n",
    "def BachelierCall(S, K, r, sigma, T):\n",
    "    d = (S-K) / (S*sigma*np.sqrt(T))\n",
    "    disc = np.exp(-r*T)\n",
    "    return disc*((S-K)*norm.cdf(d)+S*sigma*np.sqrt(T)*norm.pdf(d))\n",
    "\n",
    "def BachelierPut(S, K, r, sigma, T):\n",
    "    d = (S-K) / (S*sigma*np.sqrt(T))\n",
    "    disc = np.exp(-r*T)\n",
    "    return disc*((K-S)*norm.cdf(-d)+S*sigma*np.sqrt(T)*norm.pdf(-d))"
   ]
  },
  {
   "cell_type": "code",
   "execution_count": 132,
   "metadata": {},
   "outputs": [
    {
     "data": {
      "text/plain": [
       "[0.1750985704585497, 0.18537188428716733, 0.1909732726819407]"
      ]
     },
     "execution_count": 132,
     "metadata": {},
     "output_type": "execute_result"
    }
   ],
   "source": [
    "# Implied European Options Volatility Model\n",
    "\n",
    "# SPX Maturity Data\n",
    "spx1 = spx_df[(spx_df.exdate == 20201218)]\n",
    "spx2 = spx_df[(spx_df.exdate == 20210115)]\n",
    "spx3 = spx_df[(spx_df.exdate == 20210219)]\n",
    "\n",
    "# Time To Maturity\n",
    "today = dt.date(2020, 12, 1)\n",
    "exdate1 = dt.date(2020, 12, 18)\n",
    "exdate2 = dt.date(2021, 1, 15)\n",
    "exdate3 = dt.date(2021, 2, 19)\n",
    "T1 = (exdate1-today).days/365.0\n",
    "T2 = (exdate2-today).days/365.0\n",
    "T3 = (exdate3-today).days/365.0\n",
    "\n",
    "# Discount Rate Interpolation\n",
    "x = rate_df['days']\n",
    "y = rate_df['rate']\n",
    "f = interpolate.interp1d(x,y)\n",
    "r1 = f(T1*365)/100\n",
    "r2 = f(T2*365)/100\n",
    "r3 = f(T3*365)/100\n",
    "\n",
    "# Underlying Value & ATM Strike Price\n",
    "S = 3662.45\n",
    "K = 3660\n",
    "\n",
    "def impliedCallVolatility(S, K, r, price, T):\n",
    "    try:\n",
    "        impliedVol = brentq(lambda x: price -\n",
    "                        BlackScholesCall(S, K, r, x, T),\n",
    "                        1e-6, 10)\n",
    "    except Exception:\n",
    "        impliedVol = np.nan\n",
    "    return impliedVol\n",
    "\n",
    "def impliedPutVolatility(S, K, r, price, T):\n",
    "    try:\n",
    "        impliedVol = brentq(lambda x: price -\n",
    "                        BlackScholesPut(S, K, r, x, T),\n",
    "                        1e-6, 10)\n",
    "    except Exception:\n",
    "        impliedVol = np.nan\n",
    "    return impliedVol\n",
    "\n",
    "def impliedVolatility(S, K, r, price, T, option_type):\n",
    "    try:\n",
    "        if option_type == 'C':\n",
    "            return brentq(lambda x: price - BlackScholesCall(S, K, r, x, T), 1e-12, 10)\n",
    "        else:\n",
    "            return brentq(lambda x: price - BlackScholesPut(S, K, r, x, T), 1e-12, 10)\n",
    "    except Exception:\n",
    "        return np.nan\n",
    "\n",
    "def calculate_atm_volatility(spx_df, S, K, r, T):\n",
    "    atm_call = spx_df[(spx_df['strike_price'] == K) & (spx_df['cp_flag'] == 'C')]\n",
    "    atm_put = spx_df[(spx_df['strike_price'] == K) & (spx_df['cp_flag'] == 'P')]\n",
    "\n",
    "    if not atm_call.empty and not atm_put.empty:\n",
    "        sigma_call = impliedVolatility(S, K, r, atm_call.iloc[0]['mid_price'], T, 'C')\n",
    "        sigma_put = impliedVolatility(S, K, r, atm_put.iloc[0]['mid_price'], T, 'P')\n",
    "        return (sigma_call + sigma_put) / 2\n",
    "    else:\n",
    "        return np.nan\n",
    "\n",
    "# calculate_atm_volatility\n",
    "sigma1x = calculate_atm_volatility(spx1, S, K, r1, T1)\n",
    "sigma2x = calculate_atm_volatility(spx2, S, K, r2, T2)\n",
    "sigma3x = calculate_atm_volatility(spx3, S, K, r3, T3)\n",
    "\n",
    "sigmax=[sigma1x ,sigma2x ,sigma3x ]\n",
    "sigmax"
   ]
  },
  {
   "cell_type": "code",
   "execution_count": 186,
   "metadata": {},
   "outputs": [
    {
     "data": {
      "text/plain": [
       "[0.186690316986162, 0.18481154419544626, 0.19108134783087416]"
      ]
     },
     "execution_count": 186,
     "metadata": {},
     "output_type": "execute_result"
    }
   ],
   "source": [
    "# Implied American Options Volatility Model\n",
    "spy_df = pd.read_csv('SPY_options.csv')\n",
    "spy_df['strike_price'] = spy_df['strike_price']/1000\n",
    "spy_df['mid_price'] = (spy_df['best_bid'] + spy_df['best_offer'])/2\n",
    "\n",
    "# SPX Maturity Data\n",
    "spy1 = spy_df[(spy_df.exdate == 20201218)]\n",
    "spy2 = spy_df[(spy_df.exdate == 20210115)]\n",
    "spy3 = spy_df[(spy_df.exdate == 20210219)]\n",
    "\n",
    "# Underlying Value & ATM Strike Price\n",
    "S = 366.02\n",
    "K = 366\n",
    "\n",
    "# calculate_atm_volatility\n",
    "sigma1y = calculate_atm_volatility(spy1, S, K, r1, T1)\n",
    "sigma2y = calculate_atm_volatility(spy2, S, K, r2, T2)\n",
    "sigma3y = calculate_atm_volatility(spy3, S, K, r3, T3)\n",
    "\n",
    "sigmay=[sigma1y ,sigma2y ,sigma3y ]\n",
    "sigmay"
   ]
  },
  {
   "cell_type": "markdown",
   "metadata": {},
   "source": [
    "### Black-Scholes"
   ]
  },
  {
   "cell_type": "markdown",
   "metadata": {},
   "source": [
    "$$\n",
    "S_T = S_0 \\exp \\left( \\left( r - \\frac{\\sigma^2}{2} \\right)T + \\sigma Z \\right), \\quad Z \\sim N(0,1)\n",
    "$$"
   ]
  },
  {
   "cell_type": "code",
   "execution_count": 301,
   "metadata": {},
   "outputs": [
    {
     "name": "stdout",
     "output_type": "stream",
     "text": [
      "Under BlackScholes, the price of exotic European derivative (Payoff function): 37.701220356138386\n"
     ]
    }
   ],
   "source": [
    "def exotic_payoff_black_scholes(S0x, K, r, sigma, T):\n",
    "    \"\"\"\n",
    "    Pricing exotic payoff under Black-Scholes model.\n",
    "\n",
    "    Parameters:\n",
    "        S0: float, initial stock price\n",
    "        r: float, risk-free rate\n",
    "        sigma: float, volatility\n",
    "        T: float, time to maturity in years\n",
    "    Returns:\n",
    "        price: float, discounted payoff value\n",
    "    \"\"\"\n",
    "    # Analytical expectations under Black-Scholes assumptions\n",
    "    # Expectation of S_T^(1/3)\n",
    "    term1 = S0x * np.exp((r - 0.5 * (sigma ** 2)) * T )\n",
    "\n",
    "    # Expectation of log(S_T)\n",
    "    term2 = np.log(S0x) + (r - 0.5 * sigma ** 2) * T\n",
    "\n",
    "    # Payoff value\n",
    "    payoff = term1 ** (1/3) + 1.5 * term2 + 10.0\n",
    "\n",
    "    # Discount payoff to present value\n",
    "    price = np.exp(-r * T) * payoff\n",
    "    return price\n",
    "\n",
    "# inputs\n",
    "S0x = 3662.45  # Current stock price\n",
    "r = r2  # Risk-free rate\n",
    "sigma = sigma2x # Volatility\n",
    "T = 45 / 365  # Time to maturity in years\n",
    "\n",
    "# Compute price\n",
    "price = exotic_payoff_black_scholes(S0x, None, r, sigma, T)\n",
    "print(f\"Under BlackScholes, the price of exotic European derivative (Payoff function): {price}\")"
   ]
  },
  {
   "cell_type": "code",
   "execution_count": 299,
   "metadata": {},
   "outputs": [
    {
     "name": "stdout",
     "output_type": "stream",
     "text": [
      "Under BlackScholes, the price of exotic American derivative (Payoff function): 25.993483630433552\n"
     ]
    }
   ],
   "source": [
    "import numpy as np\n",
    "from scipy.stats import norm\n",
    "\n",
    "def exotic_payoff_black_scholes(S0y, K, r, sigma, T):\n",
    "    \"\"\"\n",
    "    Pricing exotic payoff under Black-Scholes model.\n",
    "\n",
    "    Parameters:\n",
    "        S0: float, initial stock price\n",
    "        r: float, risk-free rate\n",
    "        sigma: float, volatility\n",
    "        T: float, time to maturity in years\n",
    "    Returns:\n",
    "        price: float, discounted payoff value\n",
    "    \"\"\"\n",
    "    # Analytical expectations under Black-Scholes assumptions\n",
    "    # Expectation of S_T^(1/3)\n",
    "    term1 = S0y * np.exp((r - 0.5 * (sigma ** 2)) * T )\n",
    "\n",
    "    # Expectation of log(S_T)\n",
    "    term2 = np.log(S0y) + (r - 0.5 * sigma ** 2) * T\n",
    "\n",
    "    # Payoff value\n",
    "    payoff = term1 ** (1/3) + 1.5 * term2 + 10.0\n",
    "\n",
    "    # Discount payoff to present value\n",
    "    price = np.exp(-r * T) * payoff\n",
    "    return price\n",
    "\n",
    "# inputs\n",
    "S0y = 366.02  # Current stock price\n",
    "r = r2  # Risk-free rate\n",
    "sigma = sigma2y  # Volatility\n",
    "T = 45 / 365  # Time to maturity in years\n",
    "\n",
    "# Compute price\n",
    "price = exotic_payoff_black_scholes(S0y, None, r, sigma, T)\n",
    "print(f\"Under BlackScholes, the price of exotic American derivative (Payoff function): {price}\")\n"
   ]
  },
  {
   "cell_type": "markdown",
   "metadata": {},
   "source": [
    "### Bachelier"
   ]
  },
  {
   "cell_type": "markdown",
   "metadata": {},
   "source": [
    "$$S_T = S_0 + \\sigma W_T$$"
   ]
  },
  {
   "cell_type": "code",
   "execution_count": 112,
   "metadata": {},
   "outputs": [],
   "source": [
    "from scipy.integrate import quad"
   ]
  },
  {
   "cell_type": "code",
   "execution_count": 295,
   "metadata": {},
   "outputs": [
    {
     "name": "stdout",
     "output_type": "stream",
     "text": [
      "Under Bachelier model, the price of exotic European derivative (Payoff function): 37.723134748099234\n"
     ]
    }
   ],
   "source": [
    "# spx\n",
    "def func(x):\n",
    "    return (((S0x + sigma2x * np.sqrt(T) * x))**(1/3) + 1.5*(np.log(S0x + sigma2x * np.sqrt(T) * x)) + 10)\\\n",
    "    * (1 / np.sqrt(2 * np.pi))* np.exp(-0.5 * np.power(x, 2)) \n",
    "# 计算积分\n",
    "a, b = -np.inf, np.inf # 积分上下限\n",
    "result, error = quad(func, a, b)  # 结果和误差\n",
    "\n",
    "print(f\"Under Bachelier model, the price of exotic European derivative (Payoff function): {result}\")"
   ]
  },
  {
   "cell_type": "code",
   "execution_count": 297,
   "metadata": {},
   "outputs": [
    {
     "name": "stdout",
     "output_type": "stream",
     "text": [
      "Under Bachelier model, the price of exotic American derivative (Payoff function): 26.007252302267414\n"
     ]
    }
   ],
   "source": [
    "# spy\n",
    "def func(x):\n",
    "    return (((S0y + sigma2y * np.sqrt(T) * x))**(1/3) + 1.5*(np.log(S0y + sigma2y * np.sqrt(T) * x)) + 10)\\\n",
    "    * (1 / np.sqrt(2 * np.pi))* np.exp(-0.5 * np.power(x, 2)) \n",
    "# 计算积分\n",
    "a, b = -np.inf, np.inf # 积分上下限\n",
    "result, error = quad(func, a, b)  # 结果和误差\n",
    "\n",
    "print(f\"Under Bachelier model, the price of exotic American derivative (Payoff function): {result}\")"
   ]
  },
  {
   "cell_type": "markdown",
   "metadata": {},
   "source": [
    "### SABR"
   ]
  },
  {
   "cell_type": "markdown",
   "metadata": {},
   "source": [
    ">The static replication price of the exotic payoff is given by:"
   ]
  },
  {
   "cell_type": "markdown",
   "metadata": {},
   "source": [
    "$$\n",
    "\\text{Price} = e^{-rT} \\cdot h(F) + \\int_0^F \\phi(K) P(F, K) \\, dK + \\int_F^\\infty \\phi(K) C(F, K) \\, dK\n",
    "$$"
   ]
  },
  {
   "cell_type": "markdown",
   "metadata": {},
   "source": [
    ">Forward Price :"
   ]
  },
  {
   "cell_type": "markdown",
   "metadata": {},
   "source": [
    "$$\n",
    "   F = S \\cdot e^{rT}\n",
    "$$$$\n",
    "   F = S \\cdot e^{rT}\n",
    "$$\n",
    "   where \\( S \\) is the current spot price, \\( r \\) is the risk-free rate, and \\( T \\) is the time to expiry."
   ]
  },
  {
   "cell_type": "markdown",
   "metadata": {},
   "source": [
    ">Exotic Payoff at Forward Price :"
   ]
  },
  {
   "cell_type": "markdown",
   "metadata": {},
   "source": [
    "$$\n",
    "h(F) = F^{1/3} + 1.5 \\cdot \\log(F) + 10\n",
    "$$"
   ]
  },
  {
   "cell_type": "markdown",
   "metadata": {},
   "source": [
    ">Weight Function :"
   ]
  },
  {
   "cell_type": "markdown",
   "metadata": {},
   "source": [
    "$$\n",
    "   \\phi(K) = -\\frac{2}{9} K^{-5/3} - \\frac{1.5}{K^2}\n",
    "$$"
   ]
  },
  {
   "cell_type": "markdown",
   "metadata": {},
   "source": [
    "> ATM comdition"
   ]
  },
  {
   "cell_type": "markdown",
   "metadata": {},
   "source": [
    "$$\n",
    "\\sigma_{\\text{imp}} = \\frac{\\alpha}{F^{1-\\beta}} \\left[1 + \\left(\\frac{(1-\\beta)^2}{24} \\cdot \\frac{\\alpha^2}{F^{2-2\\beta}} + \n",
    "0.25 \\cdot \\rho \\cdot \\beta \\cdot \\nu \\cdot \\frac{\\alpha}{F^{1-\\beta}} + \n",
    "\\frac{(2-3\\rho^2)}{24} \\cdot \\nu^2\\right) T \\right]\n",
    "$$"
   ]
  },
  {
   "cell_type": "markdown",
   "metadata": {},
   "source": [
    "> NOT ATM condition"
   ]
  },
  {
   "cell_type": "markdown",
   "metadata": {},
   "source": [
    "$$\n",
    "\\text{numer} =\n",
    "\\alpha \\cdot \\left[1 + \\left(\\frac{(1-\\beta)^2}{24} \\cdot \\frac{\\alpha^2}{(F K)^{1-\\beta}} +\n",
    "0.25 \\cdot \\rho \\cdot \\beta \\cdot \\nu \\cdot \\frac{\\alpha}{(F K)^{(1-\\beta)/2}} +\n",
    "\\frac{(2-3\\rho^2)}{24} \\cdot \\nu^2\\right) T \\right] \\cdot z\n",
    "$$"
   ]
  },
  {
   "cell_type": "markdown",
   "metadata": {},
   "source": [
    "where"
   ]
  },
  {
   "cell_type": "markdown",
   "metadata": {},
   "source": [
    "$$\n",
    "z = \\frac{\\nu}{\\alpha} \\cdot (F K)^{\\frac{1 - \\beta}{2}} \\cdot \\ln\\left(\\frac{F}{K}\\right)\n",
    "$$"
   ]
  },
  {
   "cell_type": "markdown",
   "metadata": {},
   "source": [
    "and"
   ]
  },
  {
   "cell_type": "markdown",
   "metadata": {},
   "source": [
    "$$\n",
    "\\chi = \\ln\\left(\\frac{\\sqrt{1 - 2\\rho z + z^2} + z - \\rho}{1 - \\rho}\\right)\n",
    "$$"
   ]
  },
  {
   "cell_type": "markdown",
   "metadata": {},
   "source": [
    "$$\n",
    "\\text{denom} = (F K)^{\\frac{1-\\beta}{2}} \\cdot \\left[1 + \\frac{(1-\\beta)^2}{24} \\cdot (\\ln(F/K))^2 + \n",
    "\\frac{(1-\\beta)^4}{1920} \\cdot (\\ln(F/K))^4\\right] \\cdot \\chi\n",
    "$$"
   ]
  },
  {
   "cell_type": "markdown",
   "metadata": {},
   "source": [
    "$$\n",
    "\\sigma_{\\text{imp}} = \\frac{\\text{numer}}{\\text{denom}}\n",
    "$$"
   ]
  },
  {
   "cell_type": "code",
   "execution_count": 231,
   "metadata": {},
   "outputs": [
    {
     "name": "stdout",
     "output_type": "stream",
     "text": [
      "SPX Static Replication Price: 37.669990999\n",
      "SPY Static Replication Price: 25.972922929\n"
     ]
    }
   ],
   "source": [
    "# SABR implied volatility function\n",
    "def sabr_volatility(F, K, T, alpha, beta, rho, nu):\n",
    "    if np.isclose(F, K):  # Handle ATM case\n",
    "        numer1 = ((1 - beta) ** 2 / 24) * (alpha ** 2) / (F ** (2 - 2 * beta))\n",
    "        numer2 = 0.25 * rho * beta * nu * alpha / (F ** (1 - beta))\n",
    "        numer3 = ((2 - 3 * rho ** 2) / 24) * nu ** 2\n",
    "        return alpha * (1 + (numer1 + numer2 + numer3) * T) / (F ** (1 - beta))\n",
    "    else:\n",
    "        z = (nu / alpha) * ((F * K) ** ((1 - beta) / 2)) * np.log(F / K)\n",
    "        chi = np.log((np.sqrt(1 - 2 * rho * z + z ** 2) + z - rho) / (1 - rho))\n",
    "        numer = alpha * (1 + (((1 - beta) ** 2 / 24) * (alpha ** 2) / ((F * K) ** (1 - beta)) +\n",
    "                              0.25 * rho * beta * nu * alpha / ((F * K) ** ((1 - beta) / 2)) +\n",
    "                              ((2 - 3 * rho ** 2) / 24) * nu ** 2) * T) * z\n",
    "        denom = ((F * K) ** ((1 - beta) / 2)) * (1 + (1 - beta) ** 2 / 24 * (np.log(F / K)) ** 2 +\n",
    "                                                 (1 - beta) ** 4 / 1920 * (np.log(F / K)) ** 4) * chi\n",
    "        return numer / denom\n",
    "\n",
    "\n",
    "# Black-Scholes call and put pricing\n",
    "def black_scholes_call(S, K, r, sigma, T):\n",
    "    d1 = (np.log(S / K) + (r + 0.5 * sigma ** 2) * T) / (sigma * np.sqrt(T))\n",
    "    d2 = d1 - sigma * np.sqrt(T)\n",
    "    return S * norm.cdf(d1) - K * np.exp(-r * T) * norm.cdf(d2)\n",
    "\n",
    "\n",
    "def black_scholes_put(S, K, r, sigma, T):\n",
    "    d1 = (np.log(S / K) + (r + 0.5 * sigma ** 2) * T) / (sigma * np.sqrt(T))\n",
    "    d2 = d1 - sigma * np.sqrt(T)\n",
    "    return K * np.exp(-r * T) * norm.cdf(-d2) - S * norm.cdf(-d1)\n",
    "\n",
    "\n",
    "# SABR-based call and put pricing\n",
    "def sabr_call_price(S, K, r, T, alpha, beta, rho, nu):\n",
    "    fwd = S * np.exp(r * T)\n",
    "    sigma = sabr_volatility(fwd, K, T, alpha, beta, rho, nu)\n",
    "    return black_scholes_call(S, K, r, sigma, T)\n",
    "\n",
    "\n",
    "def sabr_put_price(S, K, r, T, alpha, beta, rho, nu):\n",
    "    fwd = S * np.exp(r * T)\n",
    "    sigma = sabr_volatility(fwd, K, T, alpha, beta, rho, nu)\n",
    "    return black_scholes_put(S, K, r, sigma, T)\n",
    "\n",
    "\n",
    "# Integration for static replication\n",
    "def sabr_call_integrand(K, S, r, T, alpha, beta, rho, nu):\n",
    "    weight = (-2 / 9) * K ** (-5 / 3) - 1.5 / K ** 2\n",
    "    return sabr_call_price(S, K, r, T, alpha, beta, rho, nu) * weight\n",
    "\n",
    "\n",
    "def sabr_put_integrand(K, S, r, T, alpha, beta, rho, nu):\n",
    "    weight = (-2 / 9) * K ** (-5 / 3) - 1.5 / K ** 2\n",
    "    return sabr_put_price(S, K, r, T, alpha, beta, rho, nu) * weight\n",
    "\n",
    "\n",
    "# Static replication price calculation\n",
    "def static_replication_price(S, r, T, alpha, beta, rho, nu, integration_limits):\n",
    "    fwd_price = S * np.exp(r * T)\n",
    "    h_F = (fwd_price ** (1 / 3)) + 1.5 * np.log(fwd_price) + 10\n",
    "\n",
    "    put_integral = quad(lambda K: sabr_put_integrand(K, S, r, T, alpha, beta, rho, nu), integration_limits[0], fwd_price)[0]\n",
    "    call_integral = quad(lambda K: sabr_call_integrand(K, S, r, T, alpha, beta, rho, nu), fwd_price, integration_limits[1])[0]\n",
    "\n",
    "    return np.exp(-r * T) * h_F + put_integral + call_integral\n",
    "\n",
    "\n",
    "# parameters\n",
    "spx_params = {\"alpha\": 1.81600099, \"beta\": 0.7, \"rho\": -0.40141522, \"nu\": 2.79103083}\n",
    "spy_params = {\"alpha\": 0.90783421, \"beta\": 0.7, \"rho\": -0.48729513, \"nu\": 2.72885668}\n",
    "S1 = 3662.45\n",
    "r = 0.01  # Example risk-free rate\n",
    "T = 45/365  # Example time to maturity (in years)\n",
    "integration_limits = (1e-6, 5000)\n",
    "S2 =366.20\n",
    "# Calculate static replication prices\n",
    "spx_price = static_replication_price(S1, r, T, **spx_params, integration_limits=integration_limits)\n",
    "spy_price = static_replication_price(S2, r, T, **spy_params, integration_limits=integration_limits)\n",
    "\n",
    "print(f\"SPX Static Replication Price: {spx_price:.9f}\")\n",
    "print(f\"SPY Static Replication Price: {spy_price:.9f}\")"
   ]
  },
  {
   "cell_type": "markdown",
   "metadata": {},
   "source": [
    "## 2. “Model-free” integrated variance"
   ]
  },
  {
   "cell_type": "markdown",
   "metadata": {},
   "source": [
    "$$\n",
    "\\sigma_{\\text{MF}}^2 T = \\mathbb{E} \\left[ \\int_0^T \\sigma_t^2 \\, dt \\right]\n",
    "$$"
   ]
  },
  {
   "cell_type": "markdown",
   "metadata": {},
   "source": [
    "### Black-Scholes"
   ]
  },
  {
   "cell_type": "markdown",
   "metadata": {},
   "source": [
    "$$\n",
    "E\\left[\\int_0^T \\sigma_t^2 dt\\right] = 2e^{rT} \\left( \\int_0^F \\frac{P(K)}{K^2} dK + \\int_F^\\infty \\frac{C(K)}{K^2} dK \\right)\n",
    "$$"
   ]
  },
  {
   "cell_type": "code",
   "execution_count": 309,
   "metadata": {},
   "outputs": [
    {
     "name": "stdout",
     "output_type": "stream",
     "text": [
      "(X)Integrated Variance: 0.004237\n"
     ]
    }
   ],
   "source": [
    "# spx\n",
    "\n",
    "# Black-Scholes Put price function\n",
    "def bs_put_price(K, S, r, sigma, T):\n",
    "    from scipy.stats import norm\n",
    "\n",
    "    d1 = (np.log(S / K) + (r + 0.5 * sigma**2) * T) / (sigma * np.sqrt(T))\n",
    "    d2 = d1 - sigma * np.sqrt(T)\n",
    "    put_price = K * np.exp(-r * T) * norm.cdf(-d2) - S * norm.cdf(-d1)\n",
    "    return put_price\n",
    "\n",
    "# Black-Scholes Call price function\n",
    "def bs_call_price(K, S, r, sigma, T):\n",
    "    from scipy.stats import norm\n",
    "\n",
    "    d1 = (np.log(S / K) + (r + 0.5 * sigma**2) * T) / (sigma * np.sqrt(T))\n",
    "    d2 = d1 - sigma * np.sqrt(T)\n",
    "    call_price = S * norm.cdf(d1) - K * np.exp(-r * T) * norm.cdf(d2)\n",
    "    return call_price\n",
    "\n",
    "# Function for the put integral\n",
    "def put_integral(K, S, r, sigma, T):\n",
    "    return bs_put_price(K, S, r, sigma, T) / (K**2)\n",
    "\n",
    "# Function for the call integral\n",
    "def call_integral(K, S, r, sigma, T):\n",
    "    return bs_call_price(K, S, r, sigma, T) / (K**2)\n",
    "\n",
    "# Parameters\n",
    "S = 3662.45  # Spot price\n",
    "r = r2  # Risk-free rate\n",
    "sigma = sigma2x  # Volatility\n",
    "T = 45/365  # Time to maturity\n",
    "F = S * np.exp(r * T)  # Forward price\n",
    "\n",
    "# Compute the put integral (from 0 to F)\n",
    "I_put, _ = quad(put_integral, 0, F, args=(S, r, sigma, T))\n",
    "\n",
    "# Compute the call integral (from F to infinity)\n",
    "I_call, _ = quad(call_integral, F, np.inf, args=(S, r, sigma, T))\n",
    "\n",
    "# Combine the results\n",
    "integrated_variance = 2 * np.exp(r * T) * (I_put + I_call)\n",
    "print(f\"(X)Integrated Variance: {integrated_variance:.6f}\")\n"
   ]
  },
  {
   "cell_type": "code",
   "execution_count": 305,
   "metadata": {},
   "outputs": [
    {
     "name": "stdout",
     "output_type": "stream",
     "text": [
      "(Y)Integrated Variance: 0.004496\n"
     ]
    }
   ],
   "source": [
    "# spy\n",
    "\n",
    "# Black-Scholes Put price function\n",
    "def bs_put_price(K, S, r, sigma, T):\n",
    "    from scipy.stats import norm\n",
    "\n",
    "    d1 = (np.log(S / K) + (r + 0.5 * sigma**2) * T) / (sigma * np.sqrt(T))\n",
    "    d2 = d1 - sigma * np.sqrt(T)\n",
    "    put_price = K * np.exp(-r * T) * norm.cdf(-d2) - S * norm.cdf(-d1)\n",
    "    return put_price\n",
    "\n",
    "# Black-Scholes Call price function\n",
    "def bs_call_price(K, S, r, sigma, T):\n",
    "    from scipy.stats import norm\n",
    "\n",
    "    d1 = (np.log(S / K) + (r + 0.5 * sigma**2) * T) / (sigma * np.sqrt(T))\n",
    "    d2 = d1 - sigma * np.sqrt(T)\n",
    "    call_price = S * norm.cdf(d1) - K * np.exp(-r * T) * norm.cdf(d2)\n",
    "    return call_price\n",
    "\n",
    "# Function for the put integral\n",
    "def put_integral(K, S, r, sigma, T):\n",
    "    return bs_put_price(K, S, r, sigma, T) / (K**2)\n",
    "\n",
    "# Function for the call integral\n",
    "def call_integral(K, S, r, sigma, T):\n",
    "    return bs_call_price(K, S, r, sigma, T) / (K**2)\n",
    "\n",
    "# Parameters\n",
    "S = 366.02  # Spot price\n",
    "r = 0.01  # Risk-free rate\n",
    "sigma = sigma3x  # Volatility\n",
    "T = 45/365  # Time to maturity\n",
    "F = S * np.exp(r * T)  # Forward price\n",
    "\n",
    "# Compute the put integral (from 0 to F)\n",
    "I_put, _ = quad(put_integral, 0, F, args=(S, r, sigma, T))\n",
    "\n",
    "# Compute the call integral (from F to infinity)\n",
    "I_call, _ = quad(call_integral, F, np.inf, args=(S, r, sigma, T))\n",
    "\n",
    "# Combine the results\n",
    "integrated_variance = 2 * np.exp(r * T) * (I_put + I_call)\n",
    "print(f\"(Y)Integrated Variance: {integrated_variance:.6f}\")\n"
   ]
  },
  {
   "cell_type": "markdown",
   "metadata": {},
   "source": [
    "### Bachelier"
   ]
  },
  {
   "cell_type": "code",
   "execution_count": 253,
   "metadata": {},
   "outputs": [],
   "source": [
    "T = 45/365\n",
    "spx_S = 3662.45\n",
    "spy_S = 366.02\n",
    "r = r2\n",
    "spx_K = 3660\n",
    "spy_K = 366"
   ]
  },
  {
   "cell_type": "code",
   "execution_count": 255,
   "metadata": {},
   "outputs": [
    {
     "name": "stdout",
     "output_type": "stream",
     "text": [
      "The Bachelier expected integrated variance for SPX is: 0.004263876\n",
      "The Bachelier expected integrated variance for SPY is: 0.004237972\n"
     ]
    }
   ],
   "source": [
    "# Bachelier Model Integrated Variance Function\n",
    "def Bach_callintegrand(K, S, r, T, sigma):\n",
    "    price = BachelierCall(S, K, r, sigma, T) / K**2\n",
    "    return price\n",
    "\n",
    "def Bach_putintegrand(K, S, r, T, sigma):\n",
    "    price = BachelierPut(S, K, r, sigma, T) / K**2\n",
    "    return price\n",
    "\n",
    "\n",
    "spx_F = spx_S * np.exp(r * T)\n",
    "spx_I_put = quad(lambda x: Bach_putintegrand(x, spx_S, r, T, sigma2x), 0.0, spx_F)\n",
    "spx_I_call = quad(lambda x: Bach_callintegrand(x, spx_S, r, T, sigma2x), spx_F, 5000)\n",
    "spx_Bach_E_var = 2 * np.exp(r * T) * (spx_I_put[0] + spx_I_call[0])\n",
    "print('The Bachelier expected integrated variance for SPX is: %.9f' % spx_Bach_E_var)\n",
    "\n",
    "\n",
    "spy_F = spy_S * np.exp(r * T)\n",
    "spy_I_put = quad(lambda x: Bach_putintegrand(x, spy_S, r, T, sigma2y), 0.0, spy_F)\n",
    "spy_I_call = quad(lambda x: Bach_callintegrand(x, spy_S, r, T, sigma2y), spy_F, 5000)\n",
    "spy_Bach_E_var = 2 * np.exp(r * T) * (spy_I_put[0] + spy_I_call[0])\n",
    "print('The Bachelier expected integrated variance for SPY is: %.9f' % spy_Bach_E_var)"
   ]
  },
  {
   "cell_type": "markdown",
   "metadata": {},
   "source": [
    "### SABR"
   ]
  },
  {
   "cell_type": "code",
   "execution_count": 281,
   "metadata": {},
   "outputs": [
    {
     "name": "stdout",
     "output_type": "stream",
     "text": [
      "The static replication expected integrated variance for SPX is: 0.006333770\n",
      "The static replication expected integrated variance for SPY is: 0.006013238\n"
     ]
    }
   ],
   "source": [
    "def sabrcallintegrand(K, S, r, T, alpha, beta, rho, nu):\n",
    "    price = SABRCall(S, K, r, alpha, beta, rho, nu, T) /(K ** 2)\n",
    "    return price\n",
    "\n",
    "\n",
    "def sabrputintegrand(K, S, r, T, alpha, beta, rho, nu):\n",
    "    price = SABRPut(S, K, r, alpha, beta, rho, nu, T) / (K ** 2)\n",
    "    return price\n",
    "    \n",
    "spx_alpha = 1.81600099\n",
    "beta = 0.7\n",
    "spx_rho = -0.40141522\n",
    "spx_nu = 2.79103083\n",
    "\n",
    "spy_alpha = 0.90783421\n",
    "spy_rho = -0.48729513\n",
    "spy_nu = 2.72885668\n",
    "\n",
    "spx_F = spx_S * np.exp(r * T)\n",
    "\n",
    "spx_I_put = quad(lambda x: sabrputintegrand(x, spx_S, r, T, spx_alpha, beta, spx_rho, spx_nu), 1e-6, spx_F)\n",
    "spx_I_call = quad(lambda x: sabrcallintegrand(x, spx_S, r, T, spx_alpha, beta, spx_rho, spx_nu), spx_F, 5000)\n",
    "spx_E_var = 2 * np.exp(r * T) * (spx_I_put[0] + spx_I_call[0])\n",
    "print('The static replication expected integrated variance for SPX is: %.9f' % spx_E_var)\n",
    "\n",
    "spy_F = spy_S * np.exp(r * T)\n",
    "spy_I_put = quad(lambda x: sabrputintegrand(x, spy_S, r, T, spy_alpha, beta, spy_rho, spy_nu), 1e-6, spy_F)\n",
    "spy_I_call = quad(lambda x: sabrcallintegrand(x, spy_S, r, T, spy_alpha, beta, spy_rho, spy_nu), spy_F, 5000)\n",
    "spy_E_var = 2 * np.exp(r * T) * (spy_I_put[0] + spy_I_call[0])\n",
    "print('The static replication expected integrated variance for SPY is: %.9f' % spy_E_var)"
   ]
  }
 ],
 "metadata": {
  "kernelspec": {
   "display_name": "Python 3 (ipykernel)",
   "language": "python",
   "name": "python3"
  },
  "language_info": {
   "codemirror_mode": {
    "name": "ipython",
    "version": 3
   },
   "file_extension": ".py",
   "mimetype": "text/x-python",
   "name": "python",
   "nbconvert_exporter": "python",
   "pygments_lexer": "ipython3",
   "version": "3.12.4"
  }
 },
 "nbformat": 4,
 "nbformat_minor": 4
}
